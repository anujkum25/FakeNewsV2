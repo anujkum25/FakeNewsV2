{
 "cells": [
  {
   "cell_type": "code",
   "execution_count": null,
   "metadata": {
    "colab": {
     "base_uri": "https://localhost:8080/",
     "height": 1000
    },
    "id": "7i0lwNTGmx1V",
    "outputId": "2de77c68-4bff-4027-aea3-ca85a328ab0e"
   },
   "outputs": [
    {
     "name": "stdout",
     "output_type": "stream",
     "text": [
      "Requirement already satisfied: torch in /usr/local/lib/python3.6/dist-packages (1.7.0+cu101)\n",
      "Requirement already satisfied: torchvision in /usr/local/lib/python3.6/dist-packages (0.8.1+cu101)\n",
      "Requirement already satisfied: dataclasses in /usr/local/lib/python3.6/dist-packages (from torch) (0.8)\n",
      "Requirement already satisfied: future in /usr/local/lib/python3.6/dist-packages (from torch) (0.16.0)\n",
      "Requirement already satisfied: numpy in /usr/local/lib/python3.6/dist-packages (from torch) (1.19.5)\n",
      "Requirement already satisfied: typing-extensions in /usr/local/lib/python3.6/dist-packages (from torch) (3.7.4.3)\n",
      "Requirement already satisfied: pillow>=4.1.1 in /usr/local/lib/python3.6/dist-packages (from torchvision) (7.0.0)\n",
      "Collecting transformers==2.2.0\n",
      "\u001b[?25l  Downloading https://files.pythonhosted.org/packages/ec/e7/0a1babead1b79afabb654fbec0a052e0d833ba4205a6dfd98b1aeda9c82e/transformers-2.2.0-py3-none-any.whl (360kB)\n",
      "\u001b[K     |████████████████████████████████| 368kB 8.9MB/s \n",
      "\u001b[?25hRequirement already satisfied: tqdm in /usr/local/lib/python3.6/dist-packages (from transformers==2.2.0) (4.56.0)\n",
      "Requirement already satisfied: numpy in /usr/local/lib/python3.6/dist-packages (from transformers==2.2.0) (1.19.5)\n",
      "Requirement already satisfied: sacremoses in /usr/local/lib/python3.6/dist-packages (from transformers==2.2.0) (0.0.43)\n",
      "Requirement already satisfied: regex in /usr/local/lib/python3.6/dist-packages (from transformers==2.2.0) (2019.12.20)\n",
      "Requirement already satisfied: sentencepiece in /usr/local/lib/python3.6/dist-packages (from transformers==2.2.0) (0.1.95)\n",
      "Requirement already satisfied: requests in /usr/local/lib/python3.6/dist-packages (from transformers==2.2.0) (2.23.0)\n",
      "Collecting boto3\n",
      "\u001b[?25l  Downloading https://files.pythonhosted.org/packages/18/c0/db041aa805b6275b52a02e15457fc4615f80226516b9bef3d59565538ec4/boto3-1.16.59-py2.py3-none-any.whl (130kB)\n",
      "\u001b[K     |████████████████████████████████| 133kB 52.2MB/s \n",
      "\u001b[?25hRequirement already satisfied: joblib in /usr/local/lib/python3.6/dist-packages (from sacremoses->transformers==2.2.0) (1.0.0)\n",
      "Requirement already satisfied: six in /usr/local/lib/python3.6/dist-packages (from sacremoses->transformers==2.2.0) (1.15.0)\n",
      "Requirement already satisfied: click in /usr/local/lib/python3.6/dist-packages (from sacremoses->transformers==2.2.0) (7.1.2)\n",
      "Requirement already satisfied: certifi>=2017.4.17 in /usr/local/lib/python3.6/dist-packages (from requests->transformers==2.2.0) (2020.12.5)\n",
      "Requirement already satisfied: chardet<4,>=3.0.2 in /usr/local/lib/python3.6/dist-packages (from requests->transformers==2.2.0) (3.0.4)\n",
      "Requirement already satisfied: idna<3,>=2.5 in /usr/local/lib/python3.6/dist-packages (from requests->transformers==2.2.0) (2.10)\n",
      "Requirement already satisfied: urllib3!=1.25.0,!=1.25.1,<1.26,>=1.21.1 in /usr/local/lib/python3.6/dist-packages (from requests->transformers==2.2.0) (1.24.3)\n",
      "Collecting botocore<1.20.0,>=1.19.59\n",
      "\u001b[?25l  Downloading https://files.pythonhosted.org/packages/ee/10/08dc3b74cc9c47a2c81b2e88e06c2661783b86fd77fc80f7a3eb1bf56905/botocore-1.19.59-py2.py3-none-any.whl (7.2MB)\n",
      "\u001b[K     |████████████████████████████████| 7.2MB 50.2MB/s \n",
      "\u001b[?25hCollecting jmespath<1.0.0,>=0.7.1\n",
      "  Downloading https://files.pythonhosted.org/packages/07/cb/5f001272b6faeb23c1c9e0acc04d48eaaf5c862c17709d20e3469c6e0139/jmespath-0.10.0-py2.py3-none-any.whl\n",
      "Collecting s3transfer<0.4.0,>=0.3.0\n",
      "\u001b[?25l  Downloading https://files.pythonhosted.org/packages/ea/43/4b4a1b26eb03a429a4c37ca7fdf369d938bd60018fc194e94b8379b0c77c/s3transfer-0.3.4-py2.py3-none-any.whl (69kB)\n",
      "\u001b[K     |████████████████████████████████| 71kB 11.3MB/s \n",
      "\u001b[?25hRequirement already satisfied: python-dateutil<3.0.0,>=2.1 in /usr/local/lib/python3.6/dist-packages (from botocore<1.20.0,>=1.19.59->boto3->transformers==2.2.0) (2.8.1)\n",
      "\u001b[31mERROR: simpletransformers 0.51.13 has requirement transformers>=4.0.0, but you'll have transformers 2.2.0 which is incompatible.\u001b[0m\n",
      "\u001b[31mERROR: botocore 1.19.59 has requirement urllib3<1.27,>=1.25.4; python_version != \"3.4\", but you'll have urllib3 1.24.3 which is incompatible.\u001b[0m\n",
      "Installing collected packages: jmespath, botocore, s3transfer, boto3, transformers\n",
      "  Found existing installation: transformers 4.2.2\n",
      "    Uninstalling transformers-4.2.2:\n",
      "      Successfully uninstalled transformers-4.2.2\n",
      "Successfully installed boto3-1.16.59 botocore-1.19.59 jmespath-0.10.0 s3transfer-0.3.4 transformers-2.2.0\n",
      "Requirement already satisfied: seqeval in /usr/local/lib/python3.6/dist-packages (1.2.2)\n",
      "Requirement already satisfied: scikit-learn>=0.21.3 in /usr/local/lib/python3.6/dist-packages (from seqeval) (0.22.2.post1)\n",
      "Requirement already satisfied: numpy>=1.14.0 in /usr/local/lib/python3.6/dist-packages (from seqeval) (1.19.5)\n",
      "Requirement already satisfied: joblib>=0.11 in /usr/local/lib/python3.6/dist-packages (from scikit-learn>=0.21.3->seqeval) (1.0.0)\n",
      "Requirement already satisfied: scipy>=0.17.0 in /usr/local/lib/python3.6/dist-packages (from scikit-learn>=0.21.3->seqeval) (1.4.1)\n",
      "Requirement already satisfied: tensorboardx in /usr/local/lib/python3.6/dist-packages (2.1)\n",
      "Requirement already satisfied: six in /usr/local/lib/python3.6/dist-packages (from tensorboardx) (1.15.0)\n",
      "Requirement already satisfied: numpy in /usr/local/lib/python3.6/dist-packages (from tensorboardx) (1.19.5)\n",
      "Requirement already satisfied: protobuf>=3.8.0 in /usr/local/lib/python3.6/dist-packages (from tensorboardx) (3.12.4)\n",
      "Requirement already satisfied: setuptools in /usr/local/lib/python3.6/dist-packages (from protobuf>=3.8.0->tensorboardx) (51.3.3)\n",
      "Collecting simpletransformers==0.9.1\n",
      "\u001b[?25l  Downloading https://files.pythonhosted.org/packages/cc/f6/84a9cfe05133569f0868c0aff4b379ea8dd62a457db104981218398cfb4d/simpletransformers-0.9.1-py3-none-any.whl (69kB)\n",
      "\u001b[K     |████████████████████████████████| 71kB 4.9MB/s \n",
      "\u001b[?25hRequirement already satisfied: scikit-learn in /usr/local/lib/python3.6/dist-packages (from simpletransformers==0.9.1) (0.22.2.post1)\n",
      "Requirement already satisfied: seqeval in /usr/local/lib/python3.6/dist-packages (from simpletransformers==0.9.1) (1.2.2)\n",
      "Requirement already satisfied: tqdm in /usr/local/lib/python3.6/dist-packages (from simpletransformers==0.9.1) (4.56.0)\n",
      "Requirement already satisfied: transformers in /usr/local/lib/python3.6/dist-packages (from simpletransformers==0.9.1) (2.2.0)\n",
      "Requirement already satisfied: tensorboardx in /usr/local/lib/python3.6/dist-packages (from simpletransformers==0.9.1) (2.1)\n",
      "Requirement already satisfied: requests in /usr/local/lib/python3.6/dist-packages (from simpletransformers==0.9.1) (2.23.0)\n",
      "Requirement already satisfied: regex in /usr/local/lib/python3.6/dist-packages (from simpletransformers==0.9.1) (2019.12.20)\n",
      "Requirement already satisfied: numpy in /usr/local/lib/python3.6/dist-packages (from simpletransformers==0.9.1) (1.19.5)\n",
      "Requirement already satisfied: scipy in /usr/local/lib/python3.6/dist-packages (from simpletransformers==0.9.1) (1.4.1)\n",
      "Requirement already satisfied: joblib>=0.11 in /usr/local/lib/python3.6/dist-packages (from scikit-learn->simpletransformers==0.9.1) (1.0.0)\n",
      "Requirement already satisfied: boto3 in /usr/local/lib/python3.6/dist-packages (from transformers->simpletransformers==0.9.1) (1.16.59)\n",
      "Requirement already satisfied: sentencepiece in /usr/local/lib/python3.6/dist-packages (from transformers->simpletransformers==0.9.1) (0.1.95)\n",
      "Requirement already satisfied: sacremoses in /usr/local/lib/python3.6/dist-packages (from transformers->simpletransformers==0.9.1) (0.0.43)\n",
      "Requirement already satisfied: protobuf>=3.8.0 in /usr/local/lib/python3.6/dist-packages (from tensorboardx->simpletransformers==0.9.1) (3.12.4)\n",
      "Requirement already satisfied: six in /usr/local/lib/python3.6/dist-packages (from tensorboardx->simpletransformers==0.9.1) (1.15.0)\n",
      "Requirement already satisfied: idna<3,>=2.5 in /usr/local/lib/python3.6/dist-packages (from requests->simpletransformers==0.9.1) (2.10)\n",
      "Requirement already satisfied: urllib3!=1.25.0,!=1.25.1,<1.26,>=1.21.1 in /usr/local/lib/python3.6/dist-packages (from requests->simpletransformers==0.9.1) (1.24.3)\n",
      "Requirement already satisfied: chardet<4,>=3.0.2 in /usr/local/lib/python3.6/dist-packages (from requests->simpletransformers==0.9.1) (3.0.4)\n",
      "Requirement already satisfied: certifi>=2017.4.17 in /usr/local/lib/python3.6/dist-packages (from requests->simpletransformers==0.9.1) (2020.12.5)\n",
      "Requirement already satisfied: jmespath<1.0.0,>=0.7.1 in /usr/local/lib/python3.6/dist-packages (from boto3->transformers->simpletransformers==0.9.1) (0.10.0)\n",
      "Requirement already satisfied: s3transfer<0.4.0,>=0.3.0 in /usr/local/lib/python3.6/dist-packages (from boto3->transformers->simpletransformers==0.9.1) (0.3.4)\n",
      "Requirement already satisfied: botocore<1.20.0,>=1.19.59 in /usr/local/lib/python3.6/dist-packages (from boto3->transformers->simpletransformers==0.9.1) (1.19.59)\n",
      "Requirement already satisfied: click in /usr/local/lib/python3.6/dist-packages (from sacremoses->transformers->simpletransformers==0.9.1) (7.1.2)\n",
      "Requirement already satisfied: setuptools in /usr/local/lib/python3.6/dist-packages (from protobuf>=3.8.0->tensorboardx->simpletransformers==0.9.1) (51.3.3)\n",
      "Requirement already satisfied: python-dateutil<3.0.0,>=2.1 in /usr/local/lib/python3.6/dist-packages (from botocore<1.20.0,>=1.19.59->boto3->transformers->simpletransformers==0.9.1) (2.8.1)\n",
      "Installing collected packages: simpletransformers\n",
      "  Found existing installation: simpletransformers 0.51.13\n",
      "    Uninstalling simpletransformers-0.51.13:\n",
      "      Successfully uninstalled simpletransformers-0.51.13\n",
      "Successfully installed simpletransformers-0.9.1\n"
     ]
    },
    {
     "data": {
      "application/vnd.colab-display-data+json": {
       "pip_warning": {
        "packages": [
         "simpletransformers"
        ]
       }
      }
     },
     "metadata": {
      "tags": []
     },
     "output_type": "display_data"
    }
   ],
   "source": [
    "!pip install torch torchvision\n",
    "!pip install transformers==2.2.0\n",
    "#!pip install transformers\n",
    "!pip install seqeval\n",
    "!pip install tensorboardx\n",
    "!pip install simpletransformers==0.9.1\n",
    "#!pip install --upgrade simpletransformers"
   ]
  },
  {
   "cell_type": "code",
   "execution_count": null,
   "metadata": {
    "colab": {
     "base_uri": "https://localhost:8080/"
    },
    "id": "wtqySw8fnDDH",
    "outputId": "f253cc13-7b8a-4169-d3fb-47efcfce7df1"
   },
   "outputs": [
    {
     "name": "stdout",
     "output_type": "stream",
     "text": [
      "Cuda available\n",
      "PyTorch version:  1.7.0+cu101\n"
     ]
    }
   ],
   "source": [
    "## Import required libraries\n",
    "%matplotlib inline\n",
    "\n",
    "import pandas as pd\n",
    "import numpy as np\n",
    "\n",
    "import gc\n",
    "import requests\n",
    "import os\n",
    "import io\n",
    "from google.colab import drive \n",
    "import datetime\n",
    "from simpletransformers.classification import ClassificationModel\n",
    "\n",
    "from sklearn.metrics import f1_score, accuracy_score, roc_auc_score, recall_score, precision_score\n",
    "from sklearn import preprocessing \n",
    "\n",
    "import torch\n",
    "print(\"Cuda available\" if torch.cuda.is_available() is True else \"CPU\")\n",
    "print(\"PyTorch version: \", torch.__version__)"
   ]
  },
  {
   "cell_type": "code",
   "execution_count": null,
   "metadata": {
    "id": "x2XZFpo3nI3s"
   },
   "outputs": [],
   "source": [
    "import pandas as pd\n",
    "import numpy as np\n",
    "import matplotlib.pyplot as plt\n",
    "#import seaborn as sns\n",
    "from sklearn.model_selection import train_test_split\n",
    "from wordcloud import WordCloud\n",
    "import seaborn as sns\n",
    "import re"
   ]
  },
  {
   "cell_type": "code",
   "execution_count": null,
   "metadata": {
    "colab": {
     "base_uri": "https://localhost:8080/"
    },
    "id": "vf1dPOHBnLyj",
    "outputId": "e51a6ea7-1d83-4bff-a7ce-0148c7645f3c"
   },
   "outputs": [
    {
     "name": "stdout",
     "output_type": "stream",
     "text": [
      "Mounted at /content/gdrive\n",
      "                                               title  ... label1\n",
      "0  Due to the recent outbreak for the Coronavirus...  ...      1\n",
      "1                                                NaN  ...      1\n",
      "2                                                NaN  ...      1\n",
      "3                                                NaN  ...      1\n",
      "4                                                NaN  ...      1\n",
      "\n",
      "[5 rows x 5 columns]\n"
     ]
    }
   ],
   "source": [
    " \n",
    "## dataset-2\n",
    "drive.mount('/content/gdrive')\n",
    "\n",
    "df=pd.read_csv('gdrive/My Drive/Colab Notebooks/Data/Corona/corona_fake.csv')\n",
    "\n",
    "print(df.head())\n",
    "\n"
   ]
  },
  {
   "cell_type": "code",
   "execution_count": null,
   "metadata": {
    "colab": {
     "base_uri": "https://localhost:8080/"
    },
    "id": "SPGEcSujp4DH",
    "outputId": "b9f46ac8-08ae-4ee4-8853-cc30b3949668"
   },
   "outputs": [
    {
     "name": "stdout",
     "output_type": "stream",
     "text": [
      "                                               title  label1\n",
      "0  due to the recent outbreak for the coronavirus...       1\n",
      "1                                                NaN       1\n",
      "2                                                NaN       1\n",
      "3                                                NaN       1\n",
      "4                                                NaN       1\n"
     ]
    },
    {
     "name": "stderr",
     "output_type": "stream",
     "text": [
      "/usr/local/lib/python3.6/dist-packages/ipykernel_launcher.py:4: SettingWithCopyWarning: \n",
      "A value is trying to be set on a copy of a slice from a DataFrame.\n",
      "Try using .loc[row_indexer,col_indexer] = value instead\n",
      "\n",
      "See the caveats in the documentation: https://pandas.pydata.org/pandas-docs/stable/user_guide/indexing.html#returning-a-view-versus-a-copy\n",
      "  after removing the cwd from sys.path.\n"
     ]
    }
   ],
   "source": [
    "\n",
    "df1 = df[['title', 'label1']]\n",
    "\n",
    "df1['title'] = df1['title'].str.lower()\n",
    "\n",
    "\n",
    "#label_encoder = preprocessing.LabelEncoder() \n",
    "#train_df['label-liar']= label_encoder.fit_transform(train_df['label-liar'])\n",
    "#eval_df['label-liar']= label_encoder.fit_transform(eval_df['label-liar']) \n",
    "print(df1.head())\n"
   ]
  },
  {
   "cell_type": "code",
   "execution_count": null,
   "metadata": {
    "id": "zZNSpQrFncv-"
   },
   "outputs": [],
   "source": [
    "df2 = df1[~df1['title'].isna()][['title','label1']]"
   ]
  },
  {
   "cell_type": "code",
   "execution_count": null,
   "metadata": {
    "colab": {
     "base_uri": "https://localhost:8080/"
    },
    "id": "VQ4GCh5rnfAO",
    "outputId": "efda0f73-0448-4235-ea99-93709513c0b7"
   },
   "outputs": [
    {
     "name": "stdout",
     "output_type": "stream",
     "text": [
      "<class 'pandas.core.frame.DataFrame'>\n",
      "Int64Index: 1082 entries, 0 to 1163\n",
      "Data columns (total 2 columns):\n",
      " #   Column  Non-Null Count  Dtype \n",
      "---  ------  --------------  ----- \n",
      " 0   title   1082 non-null   object\n",
      " 1   label1  1082 non-null   int64 \n",
      "dtypes: int64(1), object(1)\n",
      "memory usage: 25.4+ KB\n"
     ]
    }
   ],
   "source": [
    "df2.info()"
   ]
  },
  {
   "cell_type": "code",
   "execution_count": null,
   "metadata": {
    "colab": {
     "base_uri": "https://localhost:8080/"
    },
    "id": "2hb68tZ7nhN9",
    "outputId": "ef26d50e-e8c7-4a04-e05c-76a13d703e92"
   },
   "outputs": [
    {
     "name": "stdout",
     "output_type": "stream",
     "text": [
      "<class 'pandas.core.frame.DataFrame'>\n",
      "Int64Index: 969 entries, 0 to 1163\n",
      "Data columns (total 2 columns):\n",
      " #   Column  Non-Null Count  Dtype \n",
      "---  ------  --------------  ----- \n",
      " 0   title   969 non-null    object\n",
      " 1   label1  969 non-null    int64 \n",
      "dtypes: int64(1), object(1)\n",
      "memory usage: 22.7+ KB\n"
     ]
    }
   ],
   "source": [
    "df2.drop_duplicates(subset=['title'],keep='first',inplace=True)\n",
    "df2.info()"
   ]
  },
  {
   "cell_type": "code",
   "execution_count": null,
   "metadata": {
    "colab": {
     "base_uri": "https://localhost:8080/",
     "height": 488
    },
    "id": "bF6c2YWenkXz",
    "outputId": "65808891-8dc5-45fa-9204-9a8972890cfa"
   },
   "outputs": [
    {
     "data": {
      "image/png": "[encoded data removed]",
      "text/plain": [
       "<Figure size 1700x500 with 2 Axes>"
      ]
     },
     "metadata": {
      "needs_background": "light",
      "tags": []
     },
     "output_type": "display_data"
    }
   ],
   "source": [
    "fig,(ax1,ax2)= plt.subplots(ncols=2, figsize=(17, 5), dpi=100)\n",
    "length=df2[df2[\"label1\"]==1]['title'].str.len()\n",
    "ax1.hist(length,bins = 20,color='skyblue')\n",
    "ax1.set_title('Fake News')\n",
    "length=df2[df2[\"label1\"]==0]['title'].str.len()\n",
    "ax2.hist(length, bins = 20)\n",
    "ax2.set_title('Real News')\n",
    "fig.suptitle('Characters in text')\n",
    "plt.show()"
   ]
  },
  {
   "cell_type": "code",
   "execution_count": null,
   "metadata": {
    "colab": {
     "base_uri": "https://localhost:8080/",
     "height": 254
    },
    "id": "FSFpA1nJnnem",
    "outputId": "fbd46dbe-202e-4b8c-9406-e52cf104e3f6"
   },
   "outputs": [
    {
     "data": {
      "image/png": "[encoded data removed]",
      "text/plain": [
       "<Figure size 576x432 with 1 Axes>"
      ]
     },
     "metadata": {
      "needs_background": "light",
      "tags": []
     },
     "output_type": "display_data"
    }
   ],
   "source": [
    "text = \" \".join([x for x in df2.title])\n",
    "\n",
    "wordcloud = WordCloud(background_color='white').generate(text)\n",
    "\n",
    "plt.figure(figsize=(8,6))\n",
    "plt.imshow(wordcloud,interpolation='bilinear')\n",
    "plt.axis('off')\n",
    "plt.show()"
   ]
  },
  {
   "cell_type": "code",
   "execution_count": null,
   "metadata": {
    "colab": {
     "base_uri": "https://localhost:8080/",
     "height": 254
    },
    "id": "hHZE8RlNnnh6",
    "outputId": "d97d5ba5-6930-4bf3-f841-3fa969c751ce"
   },
   "outputs": [
    {
     "data": {
      "image/png": "[encoded data removed]",
      "text/plain": [
       "<Figure size 576x432 with 1 Axes>"
      ]
     },
     "metadata": {
      "needs_background": "light",
      "tags": []
     },
     "output_type": "display_data"
    }
   ],
   "source": [
    "## for fake\n",
    "\n",
    "text = \" \".join([x for x in df2.title[df2['label1']==1]])\n",
    "\n",
    "wordcloud = WordCloud(background_color='white').generate(text)\n",
    "\n",
    "plt.figure(figsize=(8,6))\n",
    "plt.imshow(wordcloud,interpolation='bilinear')\n",
    "plt.axis('off')\n",
    "plt.show()"
   ]
  },
  {
   "cell_type": "code",
   "execution_count": null,
   "metadata": {
    "colab": {
     "base_uri": "https://localhost:8080/",
     "height": 254
    },
    "id": "f_BPWNbNuXQK",
    "outputId": "fcde2966-a68d-4c69-a973-8e403c8b0738"
   },
   "outputs": [
    {
     "data": {
      "image/png": "[encoded data removed]",
      "text/plain": [
       "<Figure size 576x432 with 1 Axes>"
      ]
     },
     "metadata": {
      "needs_background": "light",
      "tags": []
     },
     "output_type": "display_data"
    }
   ],
   "source": [
    "## for real\n",
    "\n",
    "text = \" \".join([x for x in df2.title[df2['label1']==0]])\n",
    "\n",
    "wordcloud = WordCloud(background_color='white').generate(text)\n",
    "\n",
    "plt.figure(figsize=(8,6))\n",
    "plt.imshow(wordcloud,interpolation='bilinear')\n",
    "plt.axis('off')\n",
    "plt.show()"
   ]
  },
  {
   "cell_type": "code",
   "execution_count": null,
   "metadata": {
    "colab": {
     "base_uri": "https://localhost:8080/"
    },
    "id": "21rFvFW8nnll",
    "outputId": "692d9949-5c8b-4cf5-cdfc-5012a7e8838c"
   },
   "outputs": [
    {
     "name": "stdout",
     "output_type": "stream",
     "text": [
      "Number of 0 (Not Fake) :  525\n",
      "Number of 1 (Fake) :  444\n"
     ]
    }
   ],
   "source": [
    "print('Number of 0 (Not Fake) : ', df2[\"label1\"].value_counts()[0])\n",
    "print('Number of 1 (Fake) : ', df2[\"label1\"].value_counts()[1])"
   ]
  },
  {
   "cell_type": "code",
   "execution_count": null,
   "metadata": {
    "id": "dr_7BtexnnqS"
   },
   "outputs": [],
   "source": [
    "# Dataset Preprocessing\n",
    "def text_cleaning(text):\n",
    "    text = re.sub(\"[^a-zA-Z]\", \" \", text) # removing punctuation\n",
    "    return text\n",
    "\n",
    "df2['title'] = df2['title'].apply(text_cleaning)"
   ]
  },
  {
   "cell_type": "code",
   "execution_count": 45,
   "metadata": {
    "id": "qNazSHAUnntK"
   },
   "outputs": [],
   "source": [
    "# train test split\n",
    "train, test = train_test_split(df2, test_size=0.3, random_state=42)"
   ]
  },
  {
   "cell_type": "code",
   "execution_count": 46,
   "metadata": {
    "id": "bTc_x7PYnnwn"
   },
   "outputs": [],
   "source": [
    "from simpletransformers.classification import ClassificationModel\n",
    "\n",
    "\n",
    "# Create a TransformerModel\n",
    "model = ClassificationModel('bert', 'bert-base-cased', num_labels=2,\n",
    "                            args={'reprocess_input_data': True, 'overwrite_output_dir': True,'fp16': False,'num_train_epochs': 4},use_cuda=True)\n"
   ]
  },
  {
   "cell_type": "code",
   "execution_count": 47,
   "metadata": {
    "colab": {
     "base_uri": "https://localhost:8080/",
     "height": 363,
     "referenced_widgets": [
      "888646991496479086b99c870cf034b3",
      "ae05d245eaf045d9bcb7f5026f7e7427",
      "3cb549549c204754915115224b3a63fe",
      "a94b2a07349b45b99c2f1c2e6e94c4ad",
      "4b985c14a20144889290348f5a040485",
      "ce4c3f1490a84487be8e71787d34d7b8",
      "b2a3b2f9c453499bb0cb71323748bd2e",
      "82be8651097b4c138d527bfabff2e06e",
      "51dac4f117d3461b9c939558838095f0",
      "299f8836b35449268e1633d080dd5ee2",
      "1d653567857943b1b574cd3557f28899",
      "36c69b29632d449a8ca28651b0f38dad",
      "1d2751f8b39b4a7ea8cd3236c04a18ed",
      "db608add4c714a8583b4002bbf54a787",
      "a6c0aa09306347d5b1eacdc90b69dcd7",
      "6b5322927f75439f8715a1b8540c751e",
      "6864281d64eb4943bffac1a5f0c2cbff",
      "48479510b3cb49ee9479f75f3e1c49a5",
      "636e462cb5064b998fc162bc4b620b50",
      "dfd0944ca62f42dfa20f802649e02e5a",
      "d7fc88051d394632b92d44bd82b2eda1",
      "970cd7f9e377424c94cc5ae625b0ce40",
      "43f4651e51314c8b87784bdd0d42fb87",
      "9dc2c0dcfb594279828b2d304b7a1a89",
      "c0dd25d86b544d819d033d5f92cc19f7",
      "27782518a34f493aa31cb486f76d840b",
      "055c73fb99264481b8c83102223971fc",
      "0716db6f5b8c4271bbb57e23df1e9120",
      "6bb44ff8f23a4967803852741a09a500",
      "fda9f011ccdb428d85b0082f398a044f",
      "fa915befede34ffca895e57723f03d6e",
      "09d5d5425dd84856a516159b9237f91f",
      "76e91aaf90e14a34b576401d213ebb7a",
      "7ad5019c63514e29a5f47204148fb024",
      "e9986fe4a7a14c00a55d887cdaa6dbef",
      "65c7395b4e914e7d8beb9b4484fdf76a",
      "1a23eb6b22ca476db15765a1212e7a55",
      "bf3b765759ff41c095027e10fb0b4a78",
      "c289f0d42393432283d4e61c87b25ee0",
      "ed65302ba81c43d5a4c64e8d6eeb9d81",
      "06fe17f83a9c455c91f4fd6975e28c44",
      "5b67a3cb241d4290a561602c184ac5d2",
      "7b080dba16b14104afe7809c97a624c0",
      "f4b3a535e858481c8bfd94bafe4e2827",
      "c1c340cfe3ea448aaabd47da97b2095e",
      "71e4342b9684487196707ed625001e3a",
      "2dbd308b17c84bd0a561d0582950fb42",
      "b8938c8eaf32410eae8e37836ce8dd3f",
      "e670bc4d2f5f489ba1cda382ff4f1a30",
      "f20866fa43bd4e09a110c4e58352008c",
      "026558d45477455689f3a6077e10172f",
      "d0f48daf57904198b26d59a2bfb5ab10",
      "f1b1cb4b95ed4ebf851b19e2c032345f",
      "859db3d5343e4c89b475bdd625e63678",
      "e7cd0d178d7c4cb8bced5e4ddab7f0a7",
      "db2b17d837214b1480773a2310683f1a",
      "e4170aef55c74ca6b21abaa1c858ddf2",
      "600d42c567444f59843f27c2c2c1ed31",
      "f62f02a1b3cc4c5f98283bf9e301d8ce",
      "ec648b4ab0294ed49e91a40591134ff3",
      "b4cdb2a239eb429eb5410cd04fce3643",
      "692da2803de749e6b67a7846d33180fe",
      "3ee71113df5046599692a69e22b0f99c",
      "f50126881edb44a39693b12fad740d6d",
      "dc7dc7fe220e42d69bf50ea9610dd030",
      "de482c1c70bd4a0b9cc3ff98844d4098"
     ]
    },
    "id": "T3R4OMEOn_yD",
    "outputId": "01443319-44d8-4bee-96f1-ac479b5d3140"
   },
   "outputs": [
    {
     "name": "stdout",
     "output_type": "stream",
     "text": [
      "Converting to features started.\n"
     ]
    },
    {
     "data": {
      "application/vnd.jupyter.widget-view+json": {
       "model_id": "888646991496479086b99c870cf034b3",
       "version_major": 2,
       "version_minor": 0
      },
      "text/plain": [
       "  0%|          | 0/678 [00:00<?, ?it/s]"
      ]
     },
     "metadata": {
      "tags": []
     },
     "output_type": "display_data"
    },
    {
     "data": {
      "application/vnd.jupyter.widget-view+json": {
       "model_id": "36c69b29632d449a8ca28651b0f38dad",
       "version_major": 2,
       "version_minor": 0
      },
      "text/plain": [
       "Epoch:   0%|          | 0/4 [00:00<?, ?it/s]"
      ]
     },
     "metadata": {
      "tags": []
     },
     "output_type": "display_data"
    },
    {
     "data": {
      "application/vnd.jupyter.widget-view+json": {
       "model_id": "43f4651e51314c8b87784bdd0d42fb87",
       "version_major": 2,
       "version_minor": 0
      },
      "text/plain": [
       "Current iteration:   0%|          | 0/85 [00:00<?, ?it/s]"
      ]
     },
     "metadata": {
      "tags": []
     },
     "output_type": "display_data"
    },
    {
     "name": "stdout",
     "output_type": "stream",
     "text": [
      "Running loss: 0.584696"
     ]
    },
    {
     "name": "stderr",
     "output_type": "stream",
     "text": [
      "/usr/local/lib/python3.6/dist-packages/torch/optim/lr_scheduler.py:247: UserWarning: To get the last learning rate computed by the scheduler, please use `get_last_lr()`.\n",
      "  warnings.warn(\"To get the last learning rate computed by the scheduler, \"\n"
     ]
    },
    {
     "name": "stdout",
     "output_type": "stream",
     "text": [
      "Running loss: 0.158080"
     ]
    },
    {
     "data": {
      "application/vnd.jupyter.widget-view+json": {
       "model_id": "7ad5019c63514e29a5f47204148fb024",
       "version_major": 2,
       "version_minor": 0
      },
      "text/plain": [
       "Current iteration:   0%|          | 0/85 [00:00<?, ?it/s]"
      ]
     },
     "metadata": {
      "tags": []
     },
     "output_type": "display_data"
    },
    {
     "name": "stdout",
     "output_type": "stream",
     "text": [
      "Running loss: 0.051185"
     ]
    },
    {
     "data": {
      "application/vnd.jupyter.widget-view+json": {
       "model_id": "c1c340cfe3ea448aaabd47da97b2095e",
       "version_major": 2,
       "version_minor": 0
      },
      "text/plain": [
       "Current iteration:   0%|          | 0/85 [00:00<?, ?it/s]"
      ]
     },
     "metadata": {
      "tags": []
     },
     "output_type": "display_data"
    },
    {
     "name": "stdout",
     "output_type": "stream",
     "text": [
      "Running loss: 0.011097"
     ]
    },
    {
     "data": {
      "application/vnd.jupyter.widget-view+json": {
       "model_id": "db2b17d837214b1480773a2310683f1a",
       "version_major": 2,
       "version_minor": 0
      },
      "text/plain": [
       "Current iteration:   0%|          | 0/85 [00:00<?, ?it/s]"
      ]
     },
     "metadata": {
      "tags": []
     },
     "output_type": "display_data"
    },
    {
     "name": "stdout",
     "output_type": "stream",
     "text": [
      "Running loss: 0.007276Training of bert model complete. Saved to outputs/.\n",
      "execution time: 0:01:21.106426\n"
     ]
    }
   ],
   "source": [
    "start=datetime.datetime.now()\n",
    "model.train_model(train)\n",
    "end=datetime.datetime.now()\n",
    "\n",
    "exec_time=end-start\n",
    "print(\"execution time:\", exec_time)\n"
   ]
  },
  {
   "cell_type": "code",
   "execution_count": 48,
   "metadata": {
    "colab": {
     "base_uri": "https://localhost:8080/",
     "height": 98,
     "referenced_widgets": [
      "d9c46a3811f949719fe87fb4403b1dcc",
      "c638c621ccd842a8bb14e0538448c206",
      "37baeebcd3d140ea9a98b19838cdd213",
      "f4245612d2764635801f438abb242b51",
      "454f3c5f747b4dbf9ce3a1e0f4501f5d",
      "028efa3441ec4dc8883211ab4ce649db",
      "9beeb37888f94a76875cae6e553d2c64",
      "8cbb25da6a5a423295f0c011757ef41f",
      "0d971b88ff5a42fe84541d141341669f",
      "be7b582df1c5423e947c8805baa98121",
      "1e341eb030d940969f9edbe840d35e66",
      "f8b41a5530404223b46f6c29e91c0744",
      "36ad6d883cd64c899c0712475896f0ec",
      "276d3e3888e94663bbf405f8fc7f0c88",
      "a1259324358d49798edb21c3248a9446",
      "7579fe3aecdc4fe9b83b1587d2ca3a05",
      "ad5e49a20e3c49e2bce445adc17e7e07",
      "db945c6b4cb448eebf3fe7581c54cfbc",
      "8a76650afe11419da37d23aed6830f77",
      "cb0f987b2dbc4dccae2c75bb985c072e",
      "7444a3b6a086413b9b5a0754cb383bd1",
      "3aed1c50032043289ddb4bf5e31ec2fd"
     ]
    },
    "id": "uHXcJBT_n_1m",
    "outputId": "ea4aabee-6813-4606-8ede-e448d326f08b"
   },
   "outputs": [
    {
     "name": "stdout",
     "output_type": "stream",
     "text": [
      "Converting to features started.\n"
     ]
    },
    {
     "data": {
      "application/vnd.jupyter.widget-view+json": {
       "model_id": "d9c46a3811f949719fe87fb4403b1dcc",
       "version_major": 2,
       "version_minor": 0
      },
      "text/plain": [
       "  0%|          | 0/291 [00:00<?, ?it/s]"
      ]
     },
     "metadata": {
      "tags": []
     },
     "output_type": "display_data"
    },
    {
     "data": {
      "application/vnd.jupyter.widget-view+json": {
       "model_id": "f8b41a5530404223b46f6c29e91c0744",
       "version_major": 2,
       "version_minor": 0
      },
      "text/plain": [
       "  0%|          | 0/37 [00:00<?, ?it/s]"
      ]
     },
     "metadata": {
      "tags": []
     },
     "output_type": "display_data"
    }
   ],
   "source": [
    "result, model_outputs, wrong_predictions = model.eval_model(test)"
   ]
  },
  {
   "cell_type": "code",
   "execution_count": 49,
   "metadata": {
    "colab": {
     "base_uri": "https://localhost:8080/"
    },
    "id": "Qegba8Lgn_5B",
    "outputId": "7259dbc1-d1d9-44ee-a50b-b17c918d2e8b"
   },
   "outputs": [
    {
     "name": "stdout",
     "output_type": "stream",
     "text": [
      "{'mcc': 0.6368185974788003, 'tp': 101, 'tn': 138, 'fp': 25, 'fn': 27, 'eval_loss': 0.7657761824619327}\n",
      "[[ 3.0792136  -3.8681962 ]\n",
      " [-1.6082498   1.3416842 ]\n",
      " [-3.2446103   2.7643511 ]\n",
      " [-3.0568047   2.5609174 ]\n",
      " [-2.84432     2.3796632 ]\n",
      " [ 3.034642   -3.8086336 ]\n",
      " [-0.40783364  0.06750409]\n",
      " [ 0.5904416  -1.0317605 ]\n",
      " [ 3.0736392  -3.8411448 ]\n",
      " [ 3.2820067  -3.5716302 ]\n",
      " [ 2.6255844  -2.7812696 ]\n",
      " [-1.4665664   1.3686395 ]\n",
      " [ 3.1007192  -3.7665813 ]\n",
      " [ 2.9806323  -3.7762012 ]\n",
      " [ 2.128126   -2.2812588 ]\n",
      " [-3.2450922   2.7113292 ]\n",
      " [ 3.1471882  -3.7994678 ]\n",
      " [-1.0936809   0.7283828 ]\n",
      " [ 2.9660559  -3.9037035 ]\n",
      " [ 3.1143968  -3.8696787 ]\n",
      " [ 3.236087   -3.7909667 ]\n",
      " [-0.7849902   0.37371665]\n",
      " [ 1.7046243  -2.2646642 ]\n",
      " [-3.1757169   2.7223074 ]\n",
      " [ 3.2837708  -3.8348482 ]\n",
      " [-2.9625351   2.5799541 ]\n",
      " [-2.8577156   2.3758976 ]\n",
      " [-2.9847012   2.4462497 ]\n",
      " [ 3.1879368  -3.8455148 ]\n",
      " [ 3.1565192  -3.9426014 ]\n",
      " [ 3.2988443  -3.5842147 ]\n",
      " [-2.8016605   2.3807647 ]\n",
      " [ 1.6742997  -1.9472861 ]\n",
      " [ 0.57359916 -1.032139  ]\n",
      " [-3.2675664   2.783634  ]\n",
      " [-3.1301966   2.6351297 ]\n",
      " [ 3.221322   -3.8717344 ]\n",
      " [-1.9859204   1.7399346 ]\n",
      " [-3.0651476   2.4938958 ]\n",
      " [-3.3134387   2.821686  ]\n",
      " [ 2.8987222  -3.3852248 ]\n",
      " [-2.73628     2.3124557 ]\n",
      " [-0.4564138  -0.03264715]\n",
      " [ 0.2955085  -0.81901467]\n",
      " [ 2.8533926  -3.7360692 ]\n",
      " [-3.195341    2.6934066 ]\n",
      " [-3.1292393   2.6198144 ]\n",
      " [-2.8786194   2.4674141 ]\n",
      " [-0.936323    0.6649355 ]\n",
      " [ 3.1776478  -3.6600277 ]\n",
      " [-3.1809525   2.734191  ]\n",
      " [ 2.7033784  -3.607233  ]\n",
      " [ 3.217205   -3.9144285 ]\n",
      " [-3.2077081   2.713648  ]\n",
      " [ 3.0364006  -3.8470027 ]\n",
      " [-0.3577378   0.07151343]\n",
      " [ 2.9966886  -3.936529  ]\n",
      " [ 1.8606824  -2.202019  ]\n",
      " [-2.8725953   2.4416137 ]\n",
      " [ 2.91089    -3.7802446 ]\n",
      " [ 3.2730057  -3.8222058 ]\n",
      " [ 3.098504   -3.8190987 ]\n",
      " [ 2.9390597  -3.7603943 ]\n",
      " [-3.1263971   2.657597  ]\n",
      " [ 3.257735   -3.9684541 ]\n",
      " [ 3.0606596  -3.8806593 ]\n",
      " [-3.1403444   2.6438227 ]\n",
      " [ 2.4695528  -2.9609435 ]\n",
      " [-2.7908008   2.295092  ]\n",
      " [ 2.772239   -3.4798934 ]\n",
      " [ 2.9015677  -3.795858  ]\n",
      " [ 2.4707823  -3.0263019 ]\n",
      " [-2.503398    2.1235032 ]\n",
      " [ 3.248403   -3.8142018 ]\n",
      " [ 2.6909864  -3.4815433 ]\n",
      " [-2.8025398   2.2856994 ]\n",
      " [-2.989114    2.5719929 ]\n",
      " [ 2.7512124  -3.6980205 ]\n",
      " [ 2.3798718  -3.2660606 ]\n",
      " [ 3.0754988  -3.7754116 ]\n",
      " [ 3.1042671  -3.8710434 ]\n",
      " [-2.8354053   2.3939848 ]\n",
      " [ 2.9381344  -3.6925714 ]\n",
      " [-3.079458    2.543714  ]\n",
      " [-2.6609852   2.137771  ]\n",
      " [-1.7870448   1.4936227 ]\n",
      " [ 2.76036    -3.4289742 ]\n",
      " [-1.4558055   1.0076712 ]\n",
      " [ 2.8636017  -3.6844194 ]\n",
      " [ 3.0931032  -3.7709486 ]\n",
      " [ 2.7578022  -3.3503535 ]\n",
      " [ 2.927075   -3.8502643 ]\n",
      " [ 3.2083817  -3.7891233 ]\n",
      " [-2.3986223   1.8652549 ]\n",
      " [ 0.03462293 -0.47139266]\n",
      " [ 2.9623117  -3.797411  ]\n",
      " [ 3.3417938  -3.7362938 ]\n",
      " [ 2.6964388  -3.486328  ]\n",
      " [ 2.9971406  -3.594563  ]\n",
      " [-3.1075459   2.5331225 ]\n",
      " [-1.5378739   0.8620636 ]\n",
      " [-2.5764945   2.1648955 ]\n",
      " [-2.8694263   2.341703  ]\n",
      " [-3.2189927   2.7162015 ]\n",
      " [ 3.1231182  -3.8933852 ]\n",
      " [ 3.0846598  -3.8925598 ]\n",
      " [ 2.7318432  -3.5967543 ]\n",
      " [-0.41098765  0.0292253 ]\n",
      " [-2.4465709   2.2445824 ]\n",
      " [ 3.2148914  -3.895673  ]\n",
      " [ 2.096585   -2.6962671 ]\n",
      " [-1.9425799   1.9034158 ]\n",
      " [ 3.1587162  -3.9973998 ]\n",
      " [-2.9996154   2.4674056 ]\n",
      " [ 2.9647663  -3.235467  ]\n",
      " [ 2.9470956  -3.55281   ]\n",
      " [ 3.2968454  -3.9763346 ]\n",
      " [ 2.0117772  -2.3685393 ]\n",
      " [ 2.7454312  -3.7052972 ]\n",
      " [-0.26346213 -0.36839193]\n",
      " [ 2.2861645  -3.0090322 ]\n",
      " [ 3.1927023  -3.5567863 ]\n",
      " [-3.215497    2.694753  ]\n",
      " [ 2.981386   -3.7799222 ]\n",
      " [-2.6734555   2.1979983 ]\n",
      " [-1.1934513   0.88816094]\n",
      " [-3.2606149   2.8691084 ]\n",
      " [-0.80721974  0.09975447]\n",
      " [ 3.2092826  -3.953422  ]\n",
      " [-3.1570494   2.6005864 ]\n",
      " [ 2.9661024  -3.8374887 ]\n",
      " [ 2.9527524  -3.6686482 ]\n",
      " [ 3.1819496  -3.9703047 ]\n",
      " [-3.0670218   2.557637  ]\n",
      " [-2.7708488   2.20459   ]\n",
      " [ 1.3877558  -1.9651436 ]\n",
      " [ 3.0138538  -3.8327525 ]\n",
      " [ 3.0741577  -3.973724  ]\n",
      " [ 2.2142954  -2.341407  ]\n",
      " [ 2.684286   -3.6525853 ]\n",
      " [ 2.9178967  -3.362493  ]\n",
      " [ 3.0949943  -3.8963413 ]\n",
      " [-3.3094227   2.7687042 ]\n",
      " [-2.2833335   2.1104867 ]\n",
      " [-2.9477932   2.4691143 ]\n",
      " [ 3.1649644  -3.8907192 ]\n",
      " [ 0.7330677  -1.0986905 ]\n",
      " [ 3.2406342  -3.9511733 ]\n",
      " [ 2.942182   -3.797855  ]\n",
      " [ 3.2548735  -3.6538613 ]\n",
      " [-1.8877361   1.5214752 ]\n",
      " [-3.202628    2.7328012 ]\n",
      " [-3.0991554   2.561061  ]\n",
      " [ 3.137862   -3.7495153 ]\n",
      " [-2.3703094   1.8599427 ]\n",
      " [-2.740875    2.1997452 ]\n",
      " [ 2.940197   -3.5046647 ]\n",
      " [ 3.1633608  -3.8347502 ]\n",
      " [-3.2286847   2.7531955 ]\n",
      " [ 2.9709492  -3.359509  ]\n",
      " [-2.7797368   2.399596  ]\n",
      " [ 2.9312701  -3.3593452 ]\n",
      " [-3.0017114   2.5038161 ]\n",
      " [-2.9998071   2.493572  ]\n",
      " [ 3.1343338  -3.9245026 ]\n",
      " [-2.3879328   2.147275  ]\n",
      " [-2.3412764   2.007403  ]\n",
      " [-1.6687757   1.4953073 ]\n",
      " [ 3.0803561  -3.8601615 ]\n",
      " [-3.044029    2.5810018 ]\n",
      " [-2.9947586   2.5520904 ]\n",
      " [-3.1724823   2.581845  ]\n",
      " [ 3.1039097  -3.8799565 ]\n",
      " [-3.1245673   2.6184747 ]\n",
      " [-2.082734    1.6375588 ]\n",
      " [ 2.7864256  -3.628544  ]\n",
      " [ 3.2892284  -3.8717477 ]\n",
      " [-3.1315155   2.695076  ]\n",
      " [-3.0530508   2.6156626 ]\n",
      " [ 3.1822278  -3.9444098 ]\n",
      " [ 2.6055481  -3.183025  ]\n",
      " [-3.0129993   2.6110845 ]\n",
      " [ 3.115777   -3.7463636 ]\n",
      " [-3.094246    2.5761101 ]\n",
      " [ 2.9688692  -3.6838717 ]\n",
      " [ 0.24614501 -0.8273123 ]\n",
      " [-2.829912    2.379195  ]\n",
      " [ 2.7087908  -3.623585  ]\n",
      " [ 0.0665785  -0.839954  ]\n",
      " [ 1.0072366  -1.624263  ]\n",
      " [ 2.9782455  -3.8003373 ]\n",
      " [ 3.238131   -3.7688072 ]\n",
      " [ 1.8095907  -1.8692697 ]\n",
      " [ 2.2060044  -2.3789213 ]\n",
      " [ 2.5224707  -2.9619565 ]\n",
      " [ 1.7442673  -2.0643883 ]\n",
      " [ 2.9283483  -3.1478808 ]\n",
      " [ 3.0315108  -3.8018844 ]\n",
      " [ 3.2222412  -3.9843638 ]\n",
      " [ 2.6295946  -3.311784  ]\n",
      " [ 1.7991962  -2.3070924 ]\n",
      " [-3.1076798   2.6379206 ]\n",
      " [ 0.6147576  -1.3424785 ]\n",
      " [ 3.0355349  -3.3287244 ]\n",
      " [-2.9413059   2.2244995 ]\n",
      " [-3.040245    2.478013  ]\n",
      " [-3.155486    2.5852149 ]\n",
      " [-3.2622025   2.7271078 ]\n",
      " [-3.1726584   2.7417648 ]\n",
      " [-2.1955118   1.7054794 ]\n",
      " [ 3.1660025  -3.9170218 ]\n",
      " [-2.1346877   1.7160513 ]\n",
      " [-1.7693852   1.1491071 ]\n",
      " [-0.405701    0.13065849]\n",
      " [-2.3945827   2.1855516 ]\n",
      " [ 3.0785286  -3.9662983 ]\n",
      " [-3.3272212   2.8023088 ]\n",
      " [-2.9918392   2.5268357 ]\n",
      " [-3.0862443   2.618634  ]\n",
      " [ 3.1802464  -3.725199  ]\n",
      " [ 2.2814856  -2.8151789 ]\n",
      " [ 3.0404003  -3.621948  ]\n",
      " [ 2.7146635  -3.545869  ]\n",
      " [ 3.0201168  -3.86879   ]\n",
      " [-2.4870198   1.914342  ]\n",
      " [-2.2259555   1.833742  ]\n",
      " [ 1.2663352  -1.9646833 ]\n",
      " [ 2.6555288  -3.4106739 ]\n",
      " [ 2.8175147  -3.7877767 ]\n",
      " [ 3.128007   -3.3721325 ]\n",
      " [ 2.8286088  -3.617257  ]\n",
      " [ 2.5941696  -3.4670708 ]\n",
      " [ 3.3934941  -3.7753074 ]\n",
      " [ 2.077137   -2.6248891 ]\n",
      " [ 1.4869499  -2.352159  ]\n",
      " [-3.2659903   2.7664397 ]\n",
      " [-2.8819242   2.3537292 ]\n",
      " [ 1.7474238  -2.5073311 ]\n",
      " [ 3.2802827  -3.9885519 ]\n",
      " [-2.946238    2.4842274 ]\n",
      " [-2.810869    2.353131  ]\n",
      " [ 3.2008855  -3.8234322 ]\n",
      " [-3.114396    2.6021392 ]\n",
      " [-2.7129152   2.307308  ]\n",
      " [-2.08907     1.8401244 ]\n",
      " [ 2.2123241  -2.9954472 ]\n",
      " [ 3.0390615  -3.6630538 ]\n",
      " [ 1.4553908  -1.7950528 ]\n",
      " [-2.6392357   2.0973408 ]\n",
      " [ 2.8151062  -3.6654506 ]\n",
      " [ 2.810521   -3.6324255 ]\n",
      " [-2.7569327   2.2993174 ]\n",
      " [ 2.1019933  -2.1575933 ]\n",
      " [ 1.7427619  -2.4936347 ]\n",
      " [-2.5842707   2.2632022 ]\n",
      " [-2.0776858   1.7458662 ]\n",
      " [ 3.3050592  -3.9013622 ]\n",
      " [-3.2374318   2.7814717 ]\n",
      " [-2.8280773   2.367431  ]\n",
      " [-3.1382535   2.6932752 ]\n",
      " [ 3.3050592  -3.9013622 ]\n",
      " [-3.1164646   2.6901925 ]\n",
      " [-2.4491427   2.0840755 ]\n",
      " [ 2.51766    -2.92481   ]\n",
      " [ 3.1830156  -3.9407363 ]\n",
      " [ 1.8247074  -2.2702117 ]\n",
      " [ 2.631428   -3.3593729 ]\n",
      " [-3.022661    2.6290581 ]\n",
      " [ 0.6612842  -1.4569136 ]\n",
      " [ 1.6479801  -2.292956  ]\n",
      " [-3.1824787   2.7360678 ]\n",
      " [-3.0213397   2.6583314 ]\n",
      " [-2.838353    2.2276564 ]\n",
      " [-3.1243227   2.6635592 ]\n",
      " [-1.5272963   1.4939067 ]\n",
      " [ 2.1434643  -2.6342926 ]\n",
      " [ 3.0940118  -3.6605902 ]\n",
      " [ 2.3500535  -2.9682755 ]\n",
      " [-1.7268641   1.5284168 ]\n",
      " [-2.2864544   1.7244002 ]\n",
      " [-1.8294183   1.6748155 ]\n",
      " [ 3.043171   -3.813245  ]\n",
      " [-2.7989123   2.3909423 ]\n",
      " [ 3.1454537  -3.9362602 ]\n",
      " [ 3.0123358  -3.6741889 ]\n",
      " [ 2.9550984  -3.6927416 ]\n",
      " [ 2.8798132  -3.687145  ]\n",
      " [-2.8687038   2.3690293 ]\n",
      " [ 2.9768438  -3.824744  ]\n",
      " [ 3.302342   -3.7254357 ]\n",
      " [ 3.0865364  -3.872865  ]]\n"
     ]
    }
   ],
   "source": [
    "print(result)\n",
    "print(model_outputs)"
   ]
  },
  {
   "cell_type": "code",
   "execution_count": 50,
   "metadata": {
    "id": "l2TyPqBynn0K"
   },
   "outputs": [],
   "source": [
    "lst = []\n",
    "for arr in model_outputs:\n",
    "    lst.append(np.argmax(arr))"
   ]
  },
  {
   "cell_type": "code",
   "execution_count": 51,
   "metadata": {
    "id": "J4i333j1oIxa"
   },
   "outputs": [],
   "source": [
    "true = test['label1'].tolist()\n",
    "predicted = lst"
   ]
  },
  {
   "cell_type": "code",
   "execution_count": 52,
   "metadata": {
    "colab": {
     "base_uri": "https://localhost:8080/"
    },
    "id": "x2OkecnhoI1_",
    "outputId": "2945821f-0b57-4ccc-8ea4-c326e28e1032"
   },
   "outputs": [
    {
     "data": {
      "text/plain": [
       "array([[138,  25],\n",
       "       [ 27, 101]])"
      ]
     },
     "execution_count": 52,
     "metadata": {
      "tags": []
     },
     "output_type": "execute_result"
    }
   ],
   "source": [
    "import sklearn\n",
    "mat = sklearn.metrics.confusion_matrix(true , predicted)\n",
    "mat"
   ]
  },
  {
   "cell_type": "code",
   "execution_count": 53,
   "metadata": {
    "colab": {
     "base_uri": "https://localhost:8080/"
    },
    "id": "ssKVpmUpoQBR",
    "outputId": "3e356d0e-e7e4-4acb-c676-e047af635501"
   },
   "outputs": [
    {
     "name": "stdout",
     "output_type": "stream",
     "text": [
      "              precision    recall  f1-score   support\n",
      "\n",
      "           0       0.84      0.85      0.84       163\n",
      "           1       0.80      0.79      0.80       128\n",
      "\n",
      "    accuracy                           0.82       291\n",
      "   macro avg       0.82      0.82      0.82       291\n",
      "weighted avg       0.82      0.82      0.82       291\n",
      "\n"
     ]
    }
   ],
   "source": [
    "print(sklearn.metrics.classification_report(true,predicted))\n"
   ]
  }
 ],
 "metadata": {
  "accelerator": "GPU",
  "colab": {
   "collapsed_sections": [],
   "name": "Dataset_2.ipynb",
   "provenance": []
  },
  "kernelspec": {
   "display_name": "Python 3",
   "language": "python",
   "name": "python3"
  },
  "language_info": {
   "codemirror_mode": {
    "name": "ipython",
    "version": 3
   },
   "file_extension": ".py",
   "mimetype": "text/x-python",
   "name": "python",
   "nbconvert_exporter": "python",
   "pygments_lexer": "ipython3",
   "version": "3.7.3"
  },
  "widgets": {
   "application/vnd.jupyter.widget-state+json": {
    "026558d45477455689f3a6077e10172f": {
     "model_module": "@jupyter-widgets/base",
     "model_name": "LayoutModel",
     "state": {
      "_model_module": "@jupyter-widgets/base",
      "_model_module_version": "1.2.0",
      "_model_name": "LayoutModel",
      "_view_count": null,
      "_view_module": "@jupyter-widgets/base",
      "_view_module_version": "1.2.0",
      "_view_name": "LayoutView",
      "align_content": null,
      "align_items": null,
      "align_self": null,
      "border": null,
      "bottom": null,
      "display": null,
      "flex": null,
      "flex_flow": null,
      "grid_area": null,
      "grid_auto_columns": null,
      "grid_auto_flow": null,
      "grid_auto_rows": null,
      "grid_column": null,
      "grid_gap": null,
      "grid_row": null,
      "grid_template_areas": null,
      "grid_template_columns": null,
      "grid_template_rows": null,
      "height": null,
      "justify_content": null,
      "justify_items": null,
      "left": null,
      "margin": null,
      "max_height": null,
      "max_width": null,
      "min_height": null,
      "min_width": null,
      "object_fit": null,
      "object_position": null,
      "order": null,
      "overflow": null,
      "overflow_x": null,
      "overflow_y": null,
      "padding": null,
      "right": null,
      "top": null,
      "visibility": null,
      "width": null
     }
    },
    "028efa3441ec4dc8883211ab4ce649db": {
     "model_module": "@jupyter-widgets/controls",
     "model_name": "DescriptionStyleModel",
     "state": {
      "_model_module": "@jupyter-widgets/controls",
      "_model_module_version": "1.5.0",
      "_model_name": "DescriptionStyleModel",
      "_view_count": null,
      "_view_module": "@jupyter-widgets/base",
      "_view_module_version": "1.2.0",
      "_view_name": "StyleView",
      "description_width": ""
     }
    },
    "055c73fb99264481b8c83102223971fc": {
     "model_module": "@jupyter-widgets/controls",
     "model_name": "HTMLModel",
     "state": {
      "_dom_classes": [],
      "_model_module": "@jupyter-widgets/controls",
      "_model_module_version": "1.5.0",
      "_model_name": "HTMLModel",
      "_view_count": null,
      "_view_module": "@jupyter-widgets/controls",
      "_view_module_version": "1.5.0",
      "_view_name": "HTMLView",
      "description": "",
      "description_tooltip": null,
      "layout": "IPY_MODEL_76e91aaf90e14a34b576401d213ebb7a",
      "placeholder": "​",
      "style": "IPY_MODEL_09d5d5425dd84856a516159b9237f91f",
      "value": " 85/85 [00:19&lt;00:00,  4.48it/s]"
     }
    },
    "06fe17f83a9c455c91f4fd6975e28c44": {
     "model_module": "@jupyter-widgets/controls",
     "model_name": "ProgressStyleModel",
     "state": {
      "_model_module": "@jupyter-widgets/controls",
      "_model_module_version": "1.5.0",
      "_model_name": "ProgressStyleModel",
      "_view_count": null,
      "_view_module": "@jupyter-widgets/base",
      "_view_module_version": "1.2.0",
      "_view_name": "StyleView",
      "bar_color": null,
      "description_width": ""
     }
    },
    "0716db6f5b8c4271bbb57e23df1e9120": {
     "model_module": "@jupyter-widgets/controls",
     "model_name": "DescriptionStyleModel",
     "state": {
      "_model_module": "@jupyter-widgets/controls",
      "_model_module_version": "1.5.0",
      "_model_name": "DescriptionStyleModel",
      "_view_count": null,
      "_view_module": "@jupyter-widgets/base",
      "_view_module_version": "1.2.0",
      "_view_name": "StyleView",
      "description_width": ""
     }
    },
    "09d5d5425dd84856a516159b9237f91f": {
     "model_module": "@jupyter-widgets/controls",
     "model_name": "DescriptionStyleModel",
     "state": {
      "_model_module": "@jupyter-widgets/controls",
      "_model_module_version": "1.5.0",
      "_model_name": "DescriptionStyleModel",
      "_view_count": null,
      "_view_module": "@jupyter-widgets/base",
      "_view_module_version": "1.2.0",
      "_view_name": "StyleView",
      "description_width": ""
     }
    },
    "0d971b88ff5a42fe84541d141341669f": {
     "model_module": "@jupyter-widgets/base",
     "model_name": "LayoutModel",
     "state": {
      "_model_module": "@jupyter-widgets/base",
      "_model_module_version": "1.2.0",
      "_model_name": "LayoutModel",
      "_view_count": null,
      "_view_module": "@jupyter-widgets/base",
      "_view_module_version": "1.2.0",
      "_view_name": "LayoutView",
      "align_content": null,
      "align_items": null,
      "align_self": null,
      "border": null,
      "bottom": null,
      "display": null,
      "flex": null,
      "flex_flow": null,
      "grid_area": null,
      "grid_auto_columns": null,
      "grid_auto_flow": null,
      "grid_auto_rows": null,
      "grid_column": null,
      "grid_gap": null,
      "grid_row": null,
      "grid_template_areas": null,
      "grid_template_columns": null,
      "grid_template_rows": null,
      "height": null,
      "justify_content": null,
      "justify_items": null,
      "left": null,
      "margin": null,
      "max_height": null,
      "max_width": null,
      "min_height": null,
      "min_width": null,
      "object_fit": null,
      "object_position": null,
      "order": null,
      "overflow": null,
      "overflow_x": null,
      "overflow_y": null,
      "padding": null,
      "right": null,
      "top": null,
      "visibility": null,
      "width": null
     }
    },
    "1a23eb6b22ca476db15765a1212e7a55": {
     "model_module": "@jupyter-widgets/controls",
     "model_name": "FloatProgressModel",
     "state": {
      "_dom_classes": [],
      "_model_module": "@jupyter-widgets/controls",
      "_model_module_version": "1.5.0",
      "_model_name": "FloatProgressModel",
      "_view_count": null,
      "_view_module": "@jupyter-widgets/controls",
      "_view_module_version": "1.5.0",
      "_view_name": "ProgressView",
      "bar_style": "success",
      "description": "",
      "description_tooltip": null,
      "layout": "IPY_MODEL_5b67a3cb241d4290a561602c184ac5d2",
      "max": 85,
      "min": 0,
      "orientation": "horizontal",
      "style": "IPY_MODEL_06fe17f83a9c455c91f4fd6975e28c44",
      "value": 85
     }
    },
    "1d2751f8b39b4a7ea8cd3236c04a18ed": {
     "model_module": "@jupyter-widgets/base",
     "model_name": "LayoutModel",
     "state": {
      "_model_module": "@jupyter-widgets/base",
      "_model_module_version": "1.2.0",
      "_model_name": "LayoutModel",
      "_view_count": null,
      "_view_module": "@jupyter-widgets/base",
      "_view_module_version": "1.2.0",
      "_view_name": "LayoutView",
      "align_content": null,
      "align_items": null,
      "align_self": null,
      "border": null,
      "bottom": null,
      "display": null,
      "flex": null,
      "flex_flow": null,
      "grid_area": null,
      "grid_auto_columns": null,
      "grid_auto_flow": null,
      "grid_auto_rows": null,
      "grid_column": null,
      "grid_gap": null,
      "grid_row": null,
      "grid_template_areas": null,
      "grid_template_columns": null,
      "grid_template_rows": null,
      "height": null,
      "justify_content": null,
      "justify_items": null,
      "left": null,
      "margin": null,
      "max_height": null,
      "max_width": null,
      "min_height": null,
      "min_width": null,
      "object_fit": null,
      "object_position": null,
      "order": null,
      "overflow": null,
      "overflow_x": null,
      "overflow_y": null,
      "padding": null,
      "right": null,
      "top": null,
      "visibility": null,
      "width": null
     }
    },
    "1d653567857943b1b574cd3557f28899": {
     "model_module": "@jupyter-widgets/base",
     "model_name": "LayoutModel",
     "state": {
      "_model_module": "@jupyter-widgets/base",
      "_model_module_version": "1.2.0",
      "_model_name": "LayoutModel",
      "_view_count": null,
      "_view_module": "@jupyter-widgets/base",
      "_view_module_version": "1.2.0",
      "_view_name": "LayoutView",
      "align_content": null,
      "align_items": null,
      "align_self": null,
      "border": null,
      "bottom": null,
      "display": null,
      "flex": null,
      "flex_flow": null,
      "grid_area": null,
      "grid_auto_columns": null,
      "grid_auto_flow": null,
      "grid_auto_rows": null,
      "grid_column": null,
      "grid_gap": null,
      "grid_row": null,
      "grid_template_areas": null,
      "grid_template_columns": null,
      "grid_template_rows": null,
      "height": null,
      "justify_content": null,
      "justify_items": null,
      "left": null,
      "margin": null,
      "max_height": null,
      "max_width": null,
      "min_height": null,
      "min_width": null,
      "object_fit": null,
      "object_position": null,
      "order": null,
      "overflow": null,
      "overflow_x": null,
      "overflow_y": null,
      "padding": null,
      "right": null,
      "top": null,
      "visibility": null,
      "width": null
     }
    },
    "1e341eb030d940969f9edbe840d35e66": {
     "model_module": "@jupyter-widgets/base",
     "model_name": "LayoutModel",
     "state": {
      "_model_module": "@jupyter-widgets/base",
      "_model_module_version": "1.2.0",
      "_model_name": "LayoutModel",
      "_view_count": null,
      "_view_module": "@jupyter-widgets/base",
      "_view_module_version": "1.2.0",
      "_view_name": "LayoutView",
      "align_content": null,
      "align_items": null,
      "align_self": null,
      "border": null,
      "bottom": null,
      "display": null,
      "flex": null,
      "flex_flow": null,
      "grid_area": null,
      "grid_auto_columns": null,
      "grid_auto_flow": null,
      "grid_auto_rows": null,
      "grid_column": null,
      "grid_gap": null,
      "grid_row": null,
      "grid_template_areas": null,
      "grid_template_columns": null,
      "grid_template_rows": null,
      "height": null,
      "justify_content": null,
      "justify_items": null,
      "left": null,
      "margin": null,
      "max_height": null,
      "max_width": null,
      "min_height": null,
      "min_width": null,
      "object_fit": null,
      "object_position": null,
      "order": null,
      "overflow": null,
      "overflow_x": null,
      "overflow_y": null,
      "padding": null,
      "right": null,
      "top": null,
      "visibility": null,
      "width": null
     }
    },
    "276d3e3888e94663bbf405f8fc7f0c88": {
     "model_module": "@jupyter-widgets/controls",
     "model_name": "HTMLModel",
     "state": {
      "_dom_classes": [],
      "_model_module": "@jupyter-widgets/controls",
      "_model_module_version": "1.5.0",
      "_model_name": "HTMLModel",
      "_view_count": null,
      "_view_module": "@jupyter-widgets/controls",
      "_view_module_version": "1.5.0",
      "_view_name": "HTMLView",
      "description": "",
      "description_tooltip": null,
      "layout": "IPY_MODEL_db945c6b4cb448eebf3fe7581c54cfbc",
      "placeholder": "​",
      "style": "IPY_MODEL_ad5e49a20e3c49e2bce445adc17e7e07",
      "value": "100%"
     }
    },
    "27782518a34f493aa31cb486f76d840b": {
     "model_module": "@jupyter-widgets/controls",
     "model_name": "FloatProgressModel",
     "state": {
      "_dom_classes": [],
      "_model_module": "@jupyter-widgets/controls",
      "_model_module_version": "1.5.0",
      "_model_name": "FloatProgressModel",
      "_view_count": null,
      "_view_module": "@jupyter-widgets/controls",
      "_view_module_version": "1.5.0",
      "_view_name": "ProgressView",
      "bar_style": "success",
      "description": "",
      "description_tooltip": null,
      "layout": "IPY_MODEL_fa915befede34ffca895e57723f03d6e",
      "max": 85,
      "min": 0,
      "orientation": "horizontal",
      "style": "IPY_MODEL_fda9f011ccdb428d85b0082f398a044f",
      "value": 85
     }
    },
    "299f8836b35449268e1633d080dd5ee2": {
     "model_module": "@jupyter-widgets/controls",
     "model_name": "DescriptionStyleModel",
     "state": {
      "_model_module": "@jupyter-widgets/controls",
      "_model_module_version": "1.5.0",
      "_model_name": "DescriptionStyleModel",
      "_view_count": null,
      "_view_module": "@jupyter-widgets/base",
      "_view_module_version": "1.2.0",
      "_view_name": "StyleView",
      "description_width": ""
     }
    },
    "2dbd308b17c84bd0a561d0582950fb42": {
     "model_module": "@jupyter-widgets/controls",
     "model_name": "HTMLModel",
     "state": {
      "_dom_classes": [],
      "_model_module": "@jupyter-widgets/controls",
      "_model_module_version": "1.5.0",
      "_model_name": "HTMLModel",
      "_view_count": null,
      "_view_module": "@jupyter-widgets/controls",
      "_view_module_version": "1.5.0",
      "_view_name": "HTMLView",
      "description": "",
      "description_tooltip": null,
      "layout": "IPY_MODEL_026558d45477455689f3a6077e10172f",
      "placeholder": "​",
      "style": "IPY_MODEL_f20866fa43bd4e09a110c4e58352008c",
      "value": "Current iteration: 100%"
     }
    },
    "36ad6d883cd64c899c0712475896f0ec": {
     "model_module": "@jupyter-widgets/base",
     "model_name": "LayoutModel",
     "state": {
      "_model_module": "@jupyter-widgets/base",
      "_model_module_version": "1.2.0",
      "_model_name": "LayoutModel",
      "_view_count": null,
      "_view_module": "@jupyter-widgets/base",
      "_view_module_version": "1.2.0",
      "_view_name": "LayoutView",
      "align_content": null,
      "align_items": null,
      "align_self": null,
      "border": null,
      "bottom": null,
      "display": null,
      "flex": null,
      "flex_flow": null,
      "grid_area": null,
      "grid_auto_columns": null,
      "grid_auto_flow": null,
      "grid_auto_rows": null,
      "grid_column": null,
      "grid_gap": null,
      "grid_row": null,
      "grid_template_areas": null,
      "grid_template_columns": null,
      "grid_template_rows": null,
      "height": null,
      "justify_content": null,
      "justify_items": null,
      "left": null,
      "margin": null,
      "max_height": null,
      "max_width": null,
      "min_height": null,
      "min_width": null,
      "object_fit": null,
      "object_position": null,
      "order": null,
      "overflow": null,
      "overflow_x": null,
      "overflow_y": null,
      "padding": null,
      "right": null,
      "top": null,
      "visibility": null,
      "width": null
     }
    },
    "36c69b29632d449a8ca28651b0f38dad": {
     "model_module": "@jupyter-widgets/controls",
     "model_name": "HBoxModel",
     "state": {
      "_dom_classes": [],
      "_model_module": "@jupyter-widgets/controls",
      "_model_module_version": "1.5.0",
      "_model_name": "HBoxModel",
      "_view_count": null,
      "_view_module": "@jupyter-widgets/controls",
      "_view_module_version": "1.5.0",
      "_view_name": "HBoxView",
      "box_style": "",
      "children": [
       "IPY_MODEL_db608add4c714a8583b4002bbf54a787",
       "IPY_MODEL_a6c0aa09306347d5b1eacdc90b69dcd7",
       "IPY_MODEL_6b5322927f75439f8715a1b8540c751e"
      ],
      "layout": "IPY_MODEL_1d2751f8b39b4a7ea8cd3236c04a18ed"
     }
    },
    "37baeebcd3d140ea9a98b19838cdd213": {
     "model_module": "@jupyter-widgets/controls",
     "model_name": "HTMLModel",
     "state": {
      "_dom_classes": [],
      "_model_module": "@jupyter-widgets/controls",
      "_model_module_version": "1.5.0",
      "_model_name": "HTMLModel",
      "_view_count": null,
      "_view_module": "@jupyter-widgets/controls",
      "_view_module_version": "1.5.0",
      "_view_name": "HTMLView",
      "description": "",
      "description_tooltip": null,
      "layout": "IPY_MODEL_9beeb37888f94a76875cae6e553d2c64",
      "placeholder": "​",
      "style": "IPY_MODEL_028efa3441ec4dc8883211ab4ce649db",
      "value": "100%"
     }
    },
    "3aed1c50032043289ddb4bf5e31ec2fd": {
     "model_module": "@jupyter-widgets/base",
     "model_name": "LayoutModel",
     "state": {
      "_model_module": "@jupyter-widgets/base",
      "_model_module_version": "1.2.0",
      "_model_name": "LayoutModel",
      "_view_count": null,
      "_view_module": "@jupyter-widgets/base",
      "_view_module_version": "1.2.0",
      "_view_name": "LayoutView",
      "align_content": null,
      "align_items": null,
      "align_self": null,
      "border": null,
      "bottom": null,
      "display": null,
      "flex": null,
      "flex_flow": null,
      "grid_area": null,
      "grid_auto_columns": null,
      "grid_auto_flow": null,
      "grid_auto_rows": null,
      "grid_column": null,
      "grid_gap": null,
      "grid_row": null,
      "grid_template_areas": null,
      "grid_template_columns": null,
      "grid_template_rows": null,
      "height": null,
      "justify_content": null,
      "justify_items": null,
      "left": null,
      "margin": null,
      "max_height": null,
      "max_width": null,
      "min_height": null,
      "min_width": null,
      "object_fit": null,
      "object_position": null,
      "order": null,
      "overflow": null,
      "overflow_x": null,
      "overflow_y": null,
      "padding": null,
      "right": null,
      "top": null,
      "visibility": null,
      "width": null
     }
    },
    "3cb549549c204754915115224b3a63fe": {
     "model_module": "@jupyter-widgets/controls",
     "model_name": "HTMLModel",
     "state": {
      "_dom_classes": [],
      "_model_module": "@jupyter-widgets/controls",
      "_model_module_version": "1.5.0",
      "_model_name": "HTMLModel",
      "_view_count": null,
      "_view_module": "@jupyter-widgets/controls",
      "_view_module_version": "1.5.0",
      "_view_name": "HTMLView",
      "description": "",
      "description_tooltip": null,
      "layout": "IPY_MODEL_b2a3b2f9c453499bb0cb71323748bd2e",
      "placeholder": "​",
      "style": "IPY_MODEL_ce4c3f1490a84487be8e71787d34d7b8",
      "value": "100%"
     }
    },
    "3ee71113df5046599692a69e22b0f99c": {
     "model_module": "@jupyter-widgets/controls",
     "model_name": "ProgressStyleModel",
     "state": {
      "_model_module": "@jupyter-widgets/controls",
      "_model_module_version": "1.5.0",
      "_model_name": "ProgressStyleModel",
      "_view_count": null,
      "_view_module": "@jupyter-widgets/base",
      "_view_module_version": "1.2.0",
      "_view_name": "StyleView",
      "bar_color": null,
      "description_width": ""
     }
    },
    "43f4651e51314c8b87784bdd0d42fb87": {
     "model_module": "@jupyter-widgets/controls",
     "model_name": "HBoxModel",
     "state": {
      "_dom_classes": [],
      "_model_module": "@jupyter-widgets/controls",
      "_model_module_version": "1.5.0",
      "_model_name": "HBoxModel",
      "_view_count": null,
      "_view_module": "@jupyter-widgets/controls",
      "_view_module_version": "1.5.0",
      "_view_name": "HBoxView",
      "box_style": "",
      "children": [
       "IPY_MODEL_c0dd25d86b544d819d033d5f92cc19f7",
       "IPY_MODEL_27782518a34f493aa31cb486f76d840b",
       "IPY_MODEL_055c73fb99264481b8c83102223971fc"
      ],
      "layout": "IPY_MODEL_9dc2c0dcfb594279828b2d304b7a1a89"
     }
    },
    "454f3c5f747b4dbf9ce3a1e0f4501f5d": {
     "model_module": "@jupyter-widgets/controls",
     "model_name": "HTMLModel",
     "state": {
      "_dom_classes": [],
      "_model_module": "@jupyter-widgets/controls",
      "_model_module_version": "1.5.0",
      "_model_name": "HTMLModel",
      "_view_count": null,
      "_view_module": "@jupyter-widgets/controls",
      "_view_module_version": "1.5.0",
      "_view_name": "HTMLView",
      "description": "",
      "description_tooltip": null,
      "layout": "IPY_MODEL_1e341eb030d940969f9edbe840d35e66",
      "placeholder": "​",
      "style": "IPY_MODEL_be7b582df1c5423e947c8805baa98121",
      "value": " 291/291 [00:00&lt;00:00,  5.95it/s]"
     }
    },
    "48479510b3cb49ee9479f75f3e1c49a5": {
     "model_module": "@jupyter-widgets/base",
     "model_name": "LayoutModel",
     "state": {
      "_model_module": "@jupyter-widgets/base",
      "_model_module_version": "1.2.0",
      "_model_name": "LayoutModel",
      "_view_count": null,
      "_view_module": "@jupyter-widgets/base",
      "_view_module_version": "1.2.0",
      "_view_name": "LayoutView",
      "align_content": null,
      "align_items": null,
      "align_self": null,
      "border": null,
      "bottom": null,
      "display": null,
      "flex": null,
      "flex_flow": null,
      "grid_area": null,
      "grid_auto_columns": null,
      "grid_auto_flow": null,
      "grid_auto_rows": null,
      "grid_column": null,
      "grid_gap": null,
      "grid_row": null,
      "grid_template_areas": null,
      "grid_template_columns": null,
      "grid_template_rows": null,
      "height": null,
      "justify_content": null,
      "justify_items": null,
      "left": null,
      "margin": null,
      "max_height": null,
      "max_width": null,
      "min_height": null,
      "min_width": null,
      "object_fit": null,
      "object_position": null,
      "order": null,
      "overflow": null,
      "overflow_x": null,
      "overflow_y": null,
      "padding": null,
      "right": null,
      "top": null,
      "visibility": null,
      "width": null
     }
    },
    "4b985c14a20144889290348f5a040485": {
     "model_module": "@jupyter-widgets/controls",
     "model_name": "HTMLModel",
     "state": {
      "_dom_classes": [],
      "_model_module": "@jupyter-widgets/controls",
      "_model_module_version": "1.5.0",
      "_model_name": "HTMLModel",
      "_view_count": null,
      "_view_module": "@jupyter-widgets/controls",
      "_view_module_version": "1.5.0",
      "_view_name": "HTMLView",
      "description": "",
      "description_tooltip": null,
      "layout": "IPY_MODEL_1d653567857943b1b574cd3557f28899",
      "placeholder": "​",
      "style": "IPY_MODEL_299f8836b35449268e1633d080dd5ee2",
      "value": " 678/678 [00:00&lt;00:00,  4.83it/s]"
     }
    },
    "51dac4f117d3461b9c939558838095f0": {
     "model_module": "@jupyter-widgets/base",
     "model_name": "LayoutModel",
     "state": {
      "_model_module": "@jupyter-widgets/base",
      "_model_module_version": "1.2.0",
      "_model_name": "LayoutModel",
      "_view_count": null,
      "_view_module": "@jupyter-widgets/base",
      "_view_module_version": "1.2.0",
      "_view_name": "LayoutView",
      "align_content": null,
      "align_items": null,
      "align_self": null,
      "border": null,
      "bottom": null,
      "display": null,
      "flex": null,
      "flex_flow": null,
      "grid_area": null,
      "grid_auto_columns": null,
      "grid_auto_flow": null,
      "grid_auto_rows": null,
      "grid_column": null,
      "grid_gap": null,
      "grid_row": null,
      "grid_template_areas": null,
      "grid_template_columns": null,
      "grid_template_rows": null,
      "height": null,
      "justify_content": null,
      "justify_items": null,
      "left": null,
      "margin": null,
      "max_height": null,
      "max_width": null,
      "min_height": null,
      "min_width": null,
      "object_fit": null,
      "object_position": null,
      "order": null,
      "overflow": null,
      "overflow_x": null,
      "overflow_y": null,
      "padding": null,
      "right": null,
      "top": null,
      "visibility": null,
      "width": null
     }
    },
    "5b67a3cb241d4290a561602c184ac5d2": {
     "model_module": "@jupyter-widgets/base",
     "model_name": "LayoutModel",
     "state": {
      "_model_module": "@jupyter-widgets/base",
      "_model_module_version": "1.2.0",
      "_model_name": "LayoutModel",
      "_view_count": null,
      "_view_module": "@jupyter-widgets/base",
      "_view_module_version": "1.2.0",
      "_view_name": "LayoutView",
      "align_content": null,
      "align_items": null,
      "align_self": null,
      "border": null,
      "bottom": null,
      "display": null,
      "flex": null,
      "flex_flow": null,
      "grid_area": null,
      "grid_auto_columns": null,
      "grid_auto_flow": null,
      "grid_auto_rows": null,
      "grid_column": null,
      "grid_gap": null,
      "grid_row": null,
      "grid_template_areas": null,
      "grid_template_columns": null,
      "grid_template_rows": null,
      "height": null,
      "justify_content": null,
      "justify_items": null,
      "left": null,
      "margin": null,
      "max_height": null,
      "max_width": null,
      "min_height": null,
      "min_width": null,
      "object_fit": null,
      "object_position": null,
      "order": null,
      "overflow": null,
      "overflow_x": null,
      "overflow_y": null,
      "padding": null,
      "right": null,
      "top": null,
      "visibility": null,
      "width": null
     }
    },
    "600d42c567444f59843f27c2c2c1ed31": {
     "model_module": "@jupyter-widgets/controls",
     "model_name": "HTMLModel",
     "state": {
      "_dom_classes": [],
      "_model_module": "@jupyter-widgets/controls",
      "_model_module_version": "1.5.0",
      "_model_name": "HTMLModel",
      "_view_count": null,
      "_view_module": "@jupyter-widgets/controls",
      "_view_module_version": "1.5.0",
      "_view_name": "HTMLView",
      "description": "",
      "description_tooltip": null,
      "layout": "IPY_MODEL_692da2803de749e6b67a7846d33180fe",
      "placeholder": "​",
      "style": "IPY_MODEL_b4cdb2a239eb429eb5410cd04fce3643",
      "value": "Current iteration: 100%"
     }
    },
    "636e462cb5064b998fc162bc4b620b50": {
     "model_module": "@jupyter-widgets/controls",
     "model_name": "ProgressStyleModel",
     "state": {
      "_model_module": "@jupyter-widgets/controls",
      "_model_module_version": "1.5.0",
      "_model_name": "ProgressStyleModel",
      "_view_count": null,
      "_view_module": "@jupyter-widgets/base",
      "_view_module_version": "1.2.0",
      "_view_name": "StyleView",
      "bar_color": null,
      "description_width": ""
     }
    },
    "65c7395b4e914e7d8beb9b4484fdf76a": {
     "model_module": "@jupyter-widgets/controls",
     "model_name": "HTMLModel",
     "state": {
      "_dom_classes": [],
      "_model_module": "@jupyter-widgets/controls",
      "_model_module_version": "1.5.0",
      "_model_name": "HTMLModel",
      "_view_count": null,
      "_view_module": "@jupyter-widgets/controls",
      "_view_module_version": "1.5.0",
      "_view_name": "HTMLView",
      "description": "",
      "description_tooltip": null,
      "layout": "IPY_MODEL_ed65302ba81c43d5a4c64e8d6eeb9d81",
      "placeholder": "​",
      "style": "IPY_MODEL_c289f0d42393432283d4e61c87b25ee0",
      "value": "Current iteration: 100%"
     }
    },
    "6864281d64eb4943bffac1a5f0c2cbff": {
     "model_module": "@jupyter-widgets/controls",
     "model_name": "DescriptionStyleModel",
     "state": {
      "_model_module": "@jupyter-widgets/controls",
      "_model_module_version": "1.5.0",
      "_model_name": "DescriptionStyleModel",
      "_view_count": null,
      "_view_module": "@jupyter-widgets/base",
      "_view_module_version": "1.2.0",
      "_view_name": "StyleView",
      "description_width": ""
     }
    },
    "692da2803de749e6b67a7846d33180fe": {
     "model_module": "@jupyter-widgets/base",
     "model_name": "LayoutModel",
     "state": {
      "_model_module": "@jupyter-widgets/base",
      "_model_module_version": "1.2.0",
      "_model_name": "LayoutModel",
      "_view_count": null,
      "_view_module": "@jupyter-widgets/base",
      "_view_module_version": "1.2.0",
      "_view_name": "LayoutView",
      "align_content": null,
      "align_items": null,
      "align_self": null,
      "border": null,
      "bottom": null,
      "display": null,
      "flex": null,
      "flex_flow": null,
      "grid_area": null,
      "grid_auto_columns": null,
      "grid_auto_flow": null,
      "grid_auto_rows": null,
      "grid_column": null,
      "grid_gap": null,
      "grid_row": null,
      "grid_template_areas": null,
      "grid_template_columns": null,
      "grid_template_rows": null,
      "height": null,
      "justify_content": null,
      "justify_items": null,
      "left": null,
      "margin": null,
      "max_height": null,
      "max_width": null,
      "min_height": null,
      "min_width": null,
      "object_fit": null,
      "object_position": null,
      "order": null,
      "overflow": null,
      "overflow_x": null,
      "overflow_y": null,
      "padding": null,
      "right": null,
      "top": null,
      "visibility": null,
      "width": null
     }
    },
    "6b5322927f75439f8715a1b8540c751e": {
     "model_module": "@jupyter-widgets/controls",
     "model_name": "HTMLModel",
     "state": {
      "_dom_classes": [],
      "_model_module": "@jupyter-widgets/controls",
      "_model_module_version": "1.5.0",
      "_model_name": "HTMLModel",
      "_view_count": null,
      "_view_module": "@jupyter-widgets/controls",
      "_view_module_version": "1.5.0",
      "_view_name": "HTMLView",
      "description": "",
      "description_tooltip": null,
      "layout": "IPY_MODEL_970cd7f9e377424c94cc5ae625b0ce40",
      "placeholder": "​",
      "style": "IPY_MODEL_d7fc88051d394632b92d44bd82b2eda1",
      "value": " 4/4 [01:19&lt;00:00, 19.68s/it]"
     }
    },
    "6bb44ff8f23a4967803852741a09a500": {
     "model_module": "@jupyter-widgets/base",
     "model_name": "LayoutModel",
     "state": {
      "_model_module": "@jupyter-widgets/base",
      "_model_module_version": "1.2.0",
      "_model_name": "LayoutModel",
      "_view_count": null,
      "_view_module": "@jupyter-widgets/base",
      "_view_module_version": "1.2.0",
      "_view_name": "LayoutView",
      "align_content": null,
      "align_items": null,
      "align_self": null,
      "border": null,
      "bottom": null,
      "display": null,
      "flex": null,
      "flex_flow": null,
      "grid_area": null,
      "grid_auto_columns": null,
      "grid_auto_flow": null,
      "grid_auto_rows": null,
      "grid_column": null,
      "grid_gap": null,
      "grid_row": null,
      "grid_template_areas": null,
      "grid_template_columns": null,
      "grid_template_rows": null,
      "height": null,
      "justify_content": null,
      "justify_items": null,
      "left": null,
      "margin": null,
      "max_height": null,
      "max_width": null,
      "min_height": null,
      "min_width": null,
      "object_fit": null,
      "object_position": null,
      "order": null,
      "overflow": null,
      "overflow_x": null,
      "overflow_y": null,
      "padding": null,
      "right": null,
      "top": null,
      "visibility": null,
      "width": null
     }
    },
    "71e4342b9684487196707ed625001e3a": {
     "model_module": "@jupyter-widgets/base",
     "model_name": "LayoutModel",
     "state": {
      "_model_module": "@jupyter-widgets/base",
      "_model_module_version": "1.2.0",
      "_model_name": "LayoutModel",
      "_view_count": null,
      "_view_module": "@jupyter-widgets/base",
      "_view_module_version": "1.2.0",
      "_view_name": "LayoutView",
      "align_content": null,
      "align_items": null,
      "align_self": null,
      "border": null,
      "bottom": null,
      "display": null,
      "flex": null,
      "flex_flow": null,
      "grid_area": null,
      "grid_auto_columns": null,
      "grid_auto_flow": null,
      "grid_auto_rows": null,
      "grid_column": null,
      "grid_gap": null,
      "grid_row": null,
      "grid_template_areas": null,
      "grid_template_columns": null,
      "grid_template_rows": null,
      "height": null,
      "justify_content": null,
      "justify_items": null,
      "left": null,
      "margin": null,
      "max_height": null,
      "max_width": null,
      "min_height": null,
      "min_width": null,
      "object_fit": null,
      "object_position": null,
      "order": null,
      "overflow": null,
      "overflow_x": null,
      "overflow_y": null,
      "padding": null,
      "right": null,
      "top": null,
      "visibility": null,
      "width": null
     }
    },
    "7444a3b6a086413b9b5a0754cb383bd1": {
     "model_module": "@jupyter-widgets/controls",
     "model_name": "DescriptionStyleModel",
     "state": {
      "_model_module": "@jupyter-widgets/controls",
      "_model_module_version": "1.5.0",
      "_model_name": "DescriptionStyleModel",
      "_view_count": null,
      "_view_module": "@jupyter-widgets/base",
      "_view_module_version": "1.2.0",
      "_view_name": "StyleView",
      "description_width": ""
     }
    },
    "7579fe3aecdc4fe9b83b1587d2ca3a05": {
     "model_module": "@jupyter-widgets/controls",
     "model_name": "HTMLModel",
     "state": {
      "_dom_classes": [],
      "_model_module": "@jupyter-widgets/controls",
      "_model_module_version": "1.5.0",
      "_model_name": "HTMLModel",
      "_view_count": null,
      "_view_module": "@jupyter-widgets/controls",
      "_view_module_version": "1.5.0",
      "_view_name": "HTMLView",
      "description": "",
      "description_tooltip": null,
      "layout": "IPY_MODEL_3aed1c50032043289ddb4bf5e31ec2fd",
      "placeholder": "​",
      "style": "IPY_MODEL_7444a3b6a086413b9b5a0754cb383bd1",
      "value": " 37/37 [00:02&lt;00:00, 14.29it/s]"
     }
    },
    "76e91aaf90e14a34b576401d213ebb7a": {
     "model_module": "@jupyter-widgets/base",
     "model_name": "LayoutModel",
     "state": {
      "_model_module": "@jupyter-widgets/base",
      "_model_module_version": "1.2.0",
      "_model_name": "LayoutModel",
      "_view_count": null,
      "_view_module": "@jupyter-widgets/base",
      "_view_module_version": "1.2.0",
      "_view_name": "LayoutView",
      "align_content": null,
      "align_items": null,
      "align_self": null,
      "border": null,
      "bottom": null,
      "display": null,
      "flex": null,
      "flex_flow": null,
      "grid_area": null,
      "grid_auto_columns": null,
      "grid_auto_flow": null,
      "grid_auto_rows": null,
      "grid_column": null,
      "grid_gap": null,
      "grid_row": null,
      "grid_template_areas": null,
      "grid_template_columns": null,
      "grid_template_rows": null,
      "height": null,
      "justify_content": null,
      "justify_items": null,
      "left": null,
      "margin": null,
      "max_height": null,
      "max_width": null,
      "min_height": null,
      "min_width": null,
      "object_fit": null,
      "object_position": null,
      "order": null,
      "overflow": null,
      "overflow_x": null,
      "overflow_y": null,
      "padding": null,
      "right": null,
      "top": null,
      "visibility": null,
      "width": null
     }
    },
    "7ad5019c63514e29a5f47204148fb024": {
     "model_module": "@jupyter-widgets/controls",
     "model_name": "HBoxModel",
     "state": {
      "_dom_classes": [],
      "_model_module": "@jupyter-widgets/controls",
      "_model_module_version": "1.5.0",
      "_model_name": "HBoxModel",
      "_view_count": null,
      "_view_module": "@jupyter-widgets/controls",
      "_view_module_version": "1.5.0",
      "_view_name": "HBoxView",
      "box_style": "",
      "children": [
       "IPY_MODEL_65c7395b4e914e7d8beb9b4484fdf76a",
       "IPY_MODEL_1a23eb6b22ca476db15765a1212e7a55",
       "IPY_MODEL_bf3b765759ff41c095027e10fb0b4a78"
      ],
      "layout": "IPY_MODEL_e9986fe4a7a14c00a55d887cdaa6dbef"
     }
    },
    "7b080dba16b14104afe7809c97a624c0": {
     "model_module": "@jupyter-widgets/controls",
     "model_name": "DescriptionStyleModel",
     "state": {
      "_model_module": "@jupyter-widgets/controls",
      "_model_module_version": "1.5.0",
      "_model_name": "DescriptionStyleModel",
      "_view_count": null,
      "_view_module": "@jupyter-widgets/base",
      "_view_module_version": "1.2.0",
      "_view_name": "StyleView",
      "description_width": ""
     }
    },
    "82be8651097b4c138d527bfabff2e06e": {
     "model_module": "@jupyter-widgets/controls",
     "model_name": "ProgressStyleModel",
     "state": {
      "_model_module": "@jupyter-widgets/controls",
      "_model_module_version": "1.5.0",
      "_model_name": "ProgressStyleModel",
      "_view_count": null,
      "_view_module": "@jupyter-widgets/base",
      "_view_module_version": "1.2.0",
      "_view_name": "StyleView",
      "bar_color": null,
      "description_width": ""
     }
    },
    "859db3d5343e4c89b475bdd625e63678": {
     "model_module": "@jupyter-widgets/controls",
     "model_name": "DescriptionStyleModel",
     "state": {
      "_model_module": "@jupyter-widgets/controls",
      "_model_module_version": "1.5.0",
      "_model_name": "DescriptionStyleModel",
      "_view_count": null,
      "_view_module": "@jupyter-widgets/base",
      "_view_module_version": "1.2.0",
      "_view_name": "StyleView",
      "description_width": ""
     }
    },
    "888646991496479086b99c870cf034b3": {
     "model_module": "@jupyter-widgets/controls",
     "model_name": "HBoxModel",
     "state": {
      "_dom_classes": [],
      "_model_module": "@jupyter-widgets/controls",
      "_model_module_version": "1.5.0",
      "_model_name": "HBoxModel",
      "_view_count": null,
      "_view_module": "@jupyter-widgets/controls",
      "_view_module_version": "1.5.0",
      "_view_name": "HBoxView",
      "box_style": "",
      "children": [
       "IPY_MODEL_3cb549549c204754915115224b3a63fe",
       "IPY_MODEL_a94b2a07349b45b99c2f1c2e6e94c4ad",
       "IPY_MODEL_4b985c14a20144889290348f5a040485"
      ],
      "layout": "IPY_MODEL_ae05d245eaf045d9bcb7f5026f7e7427"
     }
    },
    "8a76650afe11419da37d23aed6830f77": {
     "model_module": "@jupyter-widgets/controls",
     "model_name": "ProgressStyleModel",
     "state": {
      "_model_module": "@jupyter-widgets/controls",
      "_model_module_version": "1.5.0",
      "_model_name": "ProgressStyleModel",
      "_view_count": null,
      "_view_module": "@jupyter-widgets/base",
      "_view_module_version": "1.2.0",
      "_view_name": "StyleView",
      "bar_color": null,
      "description_width": ""
     }
    },
    "8cbb25da6a5a423295f0c011757ef41f": {
     "model_module": "@jupyter-widgets/controls",
     "model_name": "ProgressStyleModel",
     "state": {
      "_model_module": "@jupyter-widgets/controls",
      "_model_module_version": "1.5.0",
      "_model_name": "ProgressStyleModel",
      "_view_count": null,
      "_view_module": "@jupyter-widgets/base",
      "_view_module_version": "1.2.0",
      "_view_name": "StyleView",
      "bar_color": null,
      "description_width": ""
     }
    },
    "970cd7f9e377424c94cc5ae625b0ce40": {
     "model_module": "@jupyter-widgets/base",
     "model_name": "LayoutModel",
     "state": {
      "_model_module": "@jupyter-widgets/base",
      "_model_module_version": "1.2.0",
      "_model_name": "LayoutModel",
      "_view_count": null,
      "_view_module": "@jupyter-widgets/base",
      "_view_module_version": "1.2.0",
      "_view_name": "LayoutView",
      "align_content": null,
      "align_items": null,
      "align_self": null,
      "border": null,
      "bottom": null,
      "display": null,
      "flex": null,
      "flex_flow": null,
      "grid_area": null,
      "grid_auto_columns": null,
      "grid_auto_flow": null,
      "grid_auto_rows": null,
      "grid_column": null,
      "grid_gap": null,
      "grid_row": null,
      "grid_template_areas": null,
      "grid_template_columns": null,
      "grid_template_rows": null,
      "height": null,
      "justify_content": null,
      "justify_items": null,
      "left": null,
      "margin": null,
      "max_height": null,
      "max_width": null,
      "min_height": null,
      "min_width": null,
      "object_fit": null,
      "object_position": null,
      "order": null,
      "overflow": null,
      "overflow_x": null,
      "overflow_y": null,
      "padding": null,
      "right": null,
      "top": null,
      "visibility": null,
      "width": null
     }
    },
    "9beeb37888f94a76875cae6e553d2c64": {
     "model_module": "@jupyter-widgets/base",
     "model_name": "LayoutModel",
     "state": {
      "_model_module": "@jupyter-widgets/base",
      "_model_module_version": "1.2.0",
      "_model_name": "LayoutModel",
      "_view_count": null,
      "_view_module": "@jupyter-widgets/base",
      "_view_module_version": "1.2.0",
      "_view_name": "LayoutView",
      "align_content": null,
      "align_items": null,
      "align_self": null,
      "border": null,
      "bottom": null,
      "display": null,
      "flex": null,
      "flex_flow": null,
      "grid_area": null,
      "grid_auto_columns": null,
      "grid_auto_flow": null,
      "grid_auto_rows": null,
      "grid_column": null,
      "grid_gap": null,
      "grid_row": null,
      "grid_template_areas": null,
      "grid_template_columns": null,
      "grid_template_rows": null,
      "height": null,
      "justify_content": null,
      "justify_items": null,
      "left": null,
      "margin": null,
      "max_height": null,
      "max_width": null,
      "min_height": null,
      "min_width": null,
      "object_fit": null,
      "object_position": null,
      "order": null,
      "overflow": null,
      "overflow_x": null,
      "overflow_y": null,
      "padding": null,
      "right": null,
      "top": null,
      "visibility": null,
      "width": null
     }
    },
    "9dc2c0dcfb594279828b2d304b7a1a89": {
     "model_module": "@jupyter-widgets/base",
     "model_name": "LayoutModel",
     "state": {
      "_model_module": "@jupyter-widgets/base",
      "_model_module_version": "1.2.0",
      "_model_name": "LayoutModel",
      "_view_count": null,
      "_view_module": "@jupyter-widgets/base",
      "_view_module_version": "1.2.0",
      "_view_name": "LayoutView",
      "align_content": null,
      "align_items": null,
      "align_self": null,
      "border": null,
      "bottom": null,
      "display": null,
      "flex": null,
      "flex_flow": null,
      "grid_area": null,
      "grid_auto_columns": null,
      "grid_auto_flow": null,
      "grid_auto_rows": null,
      "grid_column": null,
      "grid_gap": null,
      "grid_row": null,
      "grid_template_areas": null,
      "grid_template_columns": null,
      "grid_template_rows": null,
      "height": null,
      "justify_content": null,
      "justify_items": null,
      "left": null,
      "margin": null,
      "max_height": null,
      "max_width": null,
      "min_height": null,
      "min_width": null,
      "object_fit": null,
      "object_position": null,
      "order": null,
      "overflow": null,
      "overflow_x": null,
      "overflow_y": null,
      "padding": null,
      "right": null,
      "top": null,
      "visibility": null,
      "width": null
     }
    },
    "a1259324358d49798edb21c3248a9446": {
     "model_module": "@jupyter-widgets/controls",
     "model_name": "FloatProgressModel",
     "state": {
      "_dom_classes": [],
      "_model_module": "@jupyter-widgets/controls",
      "_model_module_version": "1.5.0",
      "_model_name": "FloatProgressModel",
      "_view_count": null,
      "_view_module": "@jupyter-widgets/controls",
      "_view_module_version": "1.5.0",
      "_view_name": "ProgressView",
      "bar_style": "success",
      "description": "",
      "description_tooltip": null,
      "layout": "IPY_MODEL_cb0f987b2dbc4dccae2c75bb985c072e",
      "max": 37,
      "min": 0,
      "orientation": "horizontal",
      "style": "IPY_MODEL_8a76650afe11419da37d23aed6830f77",
      "value": 37
     }
    },
    "a6c0aa09306347d5b1eacdc90b69dcd7": {
     "model_module": "@jupyter-widgets/controls",
     "model_name": "FloatProgressModel",
     "state": {
      "_dom_classes": [],
      "_model_module": "@jupyter-widgets/controls",
      "_model_module_version": "1.5.0",
      "_model_name": "FloatProgressModel",
      "_view_count": null,
      "_view_module": "@jupyter-widgets/controls",
      "_view_module_version": "1.5.0",
      "_view_name": "ProgressView",
      "bar_style": "success",
      "description": "",
      "description_tooltip": null,
      "layout": "IPY_MODEL_dfd0944ca62f42dfa20f802649e02e5a",
      "max": 4,
      "min": 0,
      "orientation": "horizontal",
      "style": "IPY_MODEL_636e462cb5064b998fc162bc4b620b50",
      "value": 4
     }
    },
    "a94b2a07349b45b99c2f1c2e6e94c4ad": {
     "model_module": "@jupyter-widgets/controls",
     "model_name": "FloatProgressModel",
     "state": {
      "_dom_classes": [],
      "_model_module": "@jupyter-widgets/controls",
      "_model_module_version": "1.5.0",
      "_model_name": "FloatProgressModel",
      "_view_count": null,
      "_view_module": "@jupyter-widgets/controls",
      "_view_module_version": "1.5.0",
      "_view_name": "ProgressView",
      "bar_style": "success",
      "description": "",
      "description_tooltip": null,
      "layout": "IPY_MODEL_51dac4f117d3461b9c939558838095f0",
      "max": 678,
      "min": 0,
      "orientation": "horizontal",
      "style": "IPY_MODEL_82be8651097b4c138d527bfabff2e06e",
      "value": 678
     }
    },
    "ad5e49a20e3c49e2bce445adc17e7e07": {
     "model_module": "@jupyter-widgets/controls",
     "model_name": "DescriptionStyleModel",
     "state": {
      "_model_module": "@jupyter-widgets/controls",
      "_model_module_version": "1.5.0",
      "_model_name": "DescriptionStyleModel",
      "_view_count": null,
      "_view_module": "@jupyter-widgets/base",
      "_view_module_version": "1.2.0",
      "_view_name": "StyleView",
      "description_width": ""
     }
    },
    "ae05d245eaf045d9bcb7f5026f7e7427": {
     "model_module": "@jupyter-widgets/base",
     "model_name": "LayoutModel",
     "state": {
      "_model_module": "@jupyter-widgets/base",
      "_model_module_version": "1.2.0",
      "_model_name": "LayoutModel",
      "_view_count": null,
      "_view_module": "@jupyter-widgets/base",
      "_view_module_version": "1.2.0",
      "_view_name": "LayoutView",
      "align_content": null,
      "align_items": null,
      "align_self": null,
      "border": null,
      "bottom": null,
      "display": null,
      "flex": null,
      "flex_flow": null,
      "grid_area": null,
      "grid_auto_columns": null,
      "grid_auto_flow": null,
      "grid_auto_rows": null,
      "grid_column": null,
      "grid_gap": null,
      "grid_row": null,
      "grid_template_areas": null,
      "grid_template_columns": null,
      "grid_template_rows": null,
      "height": null,
      "justify_content": null,
      "justify_items": null,
      "left": null,
      "margin": null,
      "max_height": null,
      "max_width": null,
      "min_height": null,
      "min_width": null,
      "object_fit": null,
      "object_position": null,
      "order": null,
      "overflow": null,
      "overflow_x": null,
      "overflow_y": null,
      "padding": null,
      "right": null,
      "top": null,
      "visibility": null,
      "width": null
     }
    },
    "b2a3b2f9c453499bb0cb71323748bd2e": {
     "model_module": "@jupyter-widgets/base",
     "model_name": "LayoutModel",
     "state": {
      "_model_module": "@jupyter-widgets/base",
      "_model_module_version": "1.2.0",
      "_model_name": "LayoutModel",
      "_view_count": null,
      "_view_module": "@jupyter-widgets/base",
      "_view_module_version": "1.2.0",
      "_view_name": "LayoutView",
      "align_content": null,
      "align_items": null,
      "align_self": null,
      "border": null,
      "bottom": null,
      "display": null,
      "flex": null,
      "flex_flow": null,
      "grid_area": null,
      "grid_auto_columns": null,
      "grid_auto_flow": null,
      "grid_auto_rows": null,
      "grid_column": null,
      "grid_gap": null,
      "grid_row": null,
      "grid_template_areas": null,
      "grid_template_columns": null,
      "grid_template_rows": null,
      "height": null,
      "justify_content": null,
      "justify_items": null,
      "left": null,
      "margin": null,
      "max_height": null,
      "max_width": null,
      "min_height": null,
      "min_width": null,
      "object_fit": null,
      "object_position": null,
      "order": null,
      "overflow": null,
      "overflow_x": null,
      "overflow_y": null,
      "padding": null,
      "right": null,
      "top": null,
      "visibility": null,
      "width": null
     }
    },
    "b4cdb2a239eb429eb5410cd04fce3643": {
     "model_module": "@jupyter-widgets/controls",
     "model_name": "DescriptionStyleModel",
     "state": {
      "_model_module": "@jupyter-widgets/controls",
      "_model_module_version": "1.5.0",
      "_model_name": "DescriptionStyleModel",
      "_view_count": null,
      "_view_module": "@jupyter-widgets/base",
      "_view_module_version": "1.2.0",
      "_view_name": "StyleView",
      "description_width": ""
     }
    },
    "b8938c8eaf32410eae8e37836ce8dd3f": {
     "model_module": "@jupyter-widgets/controls",
     "model_name": "FloatProgressModel",
     "state": {
      "_dom_classes": [],
      "_model_module": "@jupyter-widgets/controls",
      "_model_module_version": "1.5.0",
      "_model_name": "FloatProgressModel",
      "_view_count": null,
      "_view_module": "@jupyter-widgets/controls",
      "_view_module_version": "1.5.0",
      "_view_name": "ProgressView",
      "bar_style": "success",
      "description": "",
      "description_tooltip": null,
      "layout": "IPY_MODEL_f1b1cb4b95ed4ebf851b19e2c032345f",
      "max": 85,
      "min": 0,
      "orientation": "horizontal",
      "style": "IPY_MODEL_d0f48daf57904198b26d59a2bfb5ab10",
      "value": 85
     }
    },
    "be7b582df1c5423e947c8805baa98121": {
     "model_module": "@jupyter-widgets/controls",
     "model_name": "DescriptionStyleModel",
     "state": {
      "_model_module": "@jupyter-widgets/controls",
      "_model_module_version": "1.5.0",
      "_model_name": "DescriptionStyleModel",
      "_view_count": null,
      "_view_module": "@jupyter-widgets/base",
      "_view_module_version": "1.2.0",
      "_view_name": "StyleView",
      "description_width": ""
     }
    },
    "bf3b765759ff41c095027e10fb0b4a78": {
     "model_module": "@jupyter-widgets/controls",
     "model_name": "HTMLModel",
     "state": {
      "_dom_classes": [],
      "_model_module": "@jupyter-widgets/controls",
      "_model_module_version": "1.5.0",
      "_model_name": "HTMLModel",
      "_view_count": null,
      "_view_module": "@jupyter-widgets/controls",
      "_view_module_version": "1.5.0",
      "_view_name": "HTMLView",
      "description": "",
      "description_tooltip": null,
      "layout": "IPY_MODEL_f4b3a535e858481c8bfd94bafe4e2827",
      "placeholder": "​",
      "style": "IPY_MODEL_7b080dba16b14104afe7809c97a624c0",
      "value": " 85/85 [00:20&lt;00:00,  4.51it/s]"
     }
    },
    "c0dd25d86b544d819d033d5f92cc19f7": {
     "model_module": "@jupyter-widgets/controls",
     "model_name": "HTMLModel",
     "state": {
      "_dom_classes": [],
      "_model_module": "@jupyter-widgets/controls",
      "_model_module_version": "1.5.0",
      "_model_name": "HTMLModel",
      "_view_count": null,
      "_view_module": "@jupyter-widgets/controls",
      "_view_module_version": "1.5.0",
      "_view_name": "HTMLView",
      "description": "",
      "description_tooltip": null,
      "layout": "IPY_MODEL_6bb44ff8f23a4967803852741a09a500",
      "placeholder": "​",
      "style": "IPY_MODEL_0716db6f5b8c4271bbb57e23df1e9120",
      "value": "Current iteration: 100%"
     }
    },
    "c1c340cfe3ea448aaabd47da97b2095e": {
     "model_module": "@jupyter-widgets/controls",
     "model_name": "HBoxModel",
     "state": {
      "_dom_classes": [],
      "_model_module": "@jupyter-widgets/controls",
      "_model_module_version": "1.5.0",
      "_model_name": "HBoxModel",
      "_view_count": null,
      "_view_module": "@jupyter-widgets/controls",
      "_view_module_version": "1.5.0",
      "_view_name": "HBoxView",
      "box_style": "",
      "children": [
       "IPY_MODEL_2dbd308b17c84bd0a561d0582950fb42",
       "IPY_MODEL_b8938c8eaf32410eae8e37836ce8dd3f",
       "IPY_MODEL_e670bc4d2f5f489ba1cda382ff4f1a30"
      ],
      "layout": "IPY_MODEL_71e4342b9684487196707ed625001e3a"
     }
    },
    "c289f0d42393432283d4e61c87b25ee0": {
     "model_module": "@jupyter-widgets/controls",
     "model_name": "DescriptionStyleModel",
     "state": {
      "_model_module": "@jupyter-widgets/controls",
      "_model_module_version": "1.5.0",
      "_model_name": "DescriptionStyleModel",
      "_view_count": null,
      "_view_module": "@jupyter-widgets/base",
      "_view_module_version": "1.2.0",
      "_view_name": "StyleView",
      "description_width": ""
     }
    },
    "c638c621ccd842a8bb14e0538448c206": {
     "model_module": "@jupyter-widgets/base",
     "model_name": "LayoutModel",
     "state": {
      "_model_module": "@jupyter-widgets/base",
      "_model_module_version": "1.2.0",
      "_model_name": "LayoutModel",
      "_view_count": null,
      "_view_module": "@jupyter-widgets/base",
      "_view_module_version": "1.2.0",
      "_view_name": "LayoutView",
      "align_content": null,
      "align_items": null,
      "align_self": null,
      "border": null,
      "bottom": null,
      "display": null,
      "flex": null,
      "flex_flow": null,
      "grid_area": null,
      "grid_auto_columns": null,
      "grid_auto_flow": null,
      "grid_auto_rows": null,
      "grid_column": null,
      "grid_gap": null,
      "grid_row": null,
      "grid_template_areas": null,
      "grid_template_columns": null,
      "grid_template_rows": null,
      "height": null,
      "justify_content": null,
      "justify_items": null,
      "left": null,
      "margin": null,
      "max_height": null,
      "max_width": null,
      "min_height": null,
      "min_width": null,
      "object_fit": null,
      "object_position": null,
      "order": null,
      "overflow": null,
      "overflow_x": null,
      "overflow_y": null,
      "padding": null,
      "right": null,
      "top": null,
      "visibility": null,
      "width": null
     }
    },
    "cb0f987b2dbc4dccae2c75bb985c072e": {
     "model_module": "@jupyter-widgets/base",
     "model_name": "LayoutModel",
     "state": {
      "_model_module": "@jupyter-widgets/base",
      "_model_module_version": "1.2.0",
      "_model_name": "LayoutModel",
      "_view_count": null,
      "_view_module": "@jupyter-widgets/base",
      "_view_module_version": "1.2.0",
      "_view_name": "LayoutView",
      "align_content": null,
      "align_items": null,
      "align_self": null,
      "border": null,
      "bottom": null,
      "display": null,
      "flex": null,
      "flex_flow": null,
      "grid_area": null,
      "grid_auto_columns": null,
      "grid_auto_flow": null,
      "grid_auto_rows": null,
      "grid_column": null,
      "grid_gap": null,
      "grid_row": null,
      "grid_template_areas": null,
      "grid_template_columns": null,
      "grid_template_rows": null,
      "height": null,
      "justify_content": null,
      "justify_items": null,
      "left": null,
      "margin": null,
      "max_height": null,
      "max_width": null,
      "min_height": null,
      "min_width": null,
      "object_fit": null,
      "object_position": null,
      "order": null,
      "overflow": null,
      "overflow_x": null,
      "overflow_y": null,
      "padding": null,
      "right": null,
      "top": null,
      "visibility": null,
      "width": null
     }
    },
    "ce4c3f1490a84487be8e71787d34d7b8": {
     "model_module": "@jupyter-widgets/controls",
     "model_name": "DescriptionStyleModel",
     "state": {
      "_model_module": "@jupyter-widgets/controls",
      "_model_module_version": "1.5.0",
      "_model_name": "DescriptionStyleModel",
      "_view_count": null,
      "_view_module": "@jupyter-widgets/base",
      "_view_module_version": "1.2.0",
      "_view_name": "StyleView",
      "description_width": ""
     }
    },
    "d0f48daf57904198b26d59a2bfb5ab10": {
     "model_module": "@jupyter-widgets/controls",
     "model_name": "ProgressStyleModel",
     "state": {
      "_model_module": "@jupyter-widgets/controls",
      "_model_module_version": "1.5.0",
      "_model_name": "ProgressStyleModel",
      "_view_count": null,
      "_view_module": "@jupyter-widgets/base",
      "_view_module_version": "1.2.0",
      "_view_name": "StyleView",
      "bar_color": null,
      "description_width": ""
     }
    },
    "d7fc88051d394632b92d44bd82b2eda1": {
     "model_module": "@jupyter-widgets/controls",
     "model_name": "DescriptionStyleModel",
     "state": {
      "_model_module": "@jupyter-widgets/controls",
      "_model_module_version": "1.5.0",
      "_model_name": "DescriptionStyleModel",
      "_view_count": null,
      "_view_module": "@jupyter-widgets/base",
      "_view_module_version": "1.2.0",
      "_view_name": "StyleView",
      "description_width": ""
     }
    },
    "d9c46a3811f949719fe87fb4403b1dcc": {
     "model_module": "@jupyter-widgets/controls",
     "model_name": "HBoxModel",
     "state": {
      "_dom_classes": [],
      "_model_module": "@jupyter-widgets/controls",
      "_model_module_version": "1.5.0",
      "_model_name": "HBoxModel",
      "_view_count": null,
      "_view_module": "@jupyter-widgets/controls",
      "_view_module_version": "1.5.0",
      "_view_name": "HBoxView",
      "box_style": "",
      "children": [
       "IPY_MODEL_37baeebcd3d140ea9a98b19838cdd213",
       "IPY_MODEL_f4245612d2764635801f438abb242b51",
       "IPY_MODEL_454f3c5f747b4dbf9ce3a1e0f4501f5d"
      ],
      "layout": "IPY_MODEL_c638c621ccd842a8bb14e0538448c206"
     }
    },
    "db2b17d837214b1480773a2310683f1a": {
     "model_module": "@jupyter-widgets/controls",
     "model_name": "HBoxModel",
     "state": {
      "_dom_classes": [],
      "_model_module": "@jupyter-widgets/controls",
      "_model_module_version": "1.5.0",
      "_model_name": "HBoxModel",
      "_view_count": null,
      "_view_module": "@jupyter-widgets/controls",
      "_view_module_version": "1.5.0",
      "_view_name": "HBoxView",
      "box_style": "",
      "children": [
       "IPY_MODEL_600d42c567444f59843f27c2c2c1ed31",
       "IPY_MODEL_f62f02a1b3cc4c5f98283bf9e301d8ce",
       "IPY_MODEL_ec648b4ab0294ed49e91a40591134ff3"
      ],
      "layout": "IPY_MODEL_e4170aef55c74ca6b21abaa1c858ddf2"
     }
    },
    "db608add4c714a8583b4002bbf54a787": {
     "model_module": "@jupyter-widgets/controls",
     "model_name": "HTMLModel",
     "state": {
      "_dom_classes": [],
      "_model_module": "@jupyter-widgets/controls",
      "_model_module_version": "1.5.0",
      "_model_name": "HTMLModel",
      "_view_count": null,
      "_view_module": "@jupyter-widgets/controls",
      "_view_module_version": "1.5.0",
      "_view_name": "HTMLView",
      "description": "",
      "description_tooltip": null,
      "layout": "IPY_MODEL_48479510b3cb49ee9479f75f3e1c49a5",
      "placeholder": "​",
      "style": "IPY_MODEL_6864281d64eb4943bffac1a5f0c2cbff",
      "value": "Epoch: 100%"
     }
    },
    "db945c6b4cb448eebf3fe7581c54cfbc": {
     "model_module": "@jupyter-widgets/base",
     "model_name": "LayoutModel",
     "state": {
      "_model_module": "@jupyter-widgets/base",
      "_model_module_version": "1.2.0",
      "_model_name": "LayoutModel",
      "_view_count": null,
      "_view_module": "@jupyter-widgets/base",
      "_view_module_version": "1.2.0",
      "_view_name": "LayoutView",
      "align_content": null,
      "align_items": null,
      "align_self": null,
      "border": null,
      "bottom": null,
      "display": null,
      "flex": null,
      "flex_flow": null,
      "grid_area": null,
      "grid_auto_columns": null,
      "grid_auto_flow": null,
      "grid_auto_rows": null,
      "grid_column": null,
      "grid_gap": null,
      "grid_row": null,
      "grid_template_areas": null,
      "grid_template_columns": null,
      "grid_template_rows": null,
      "height": null,
      "justify_content": null,
      "justify_items": null,
      "left": null,
      "margin": null,
      "max_height": null,
      "max_width": null,
      "min_height": null,
      "min_width": null,
      "object_fit": null,
      "object_position": null,
      "order": null,
      "overflow": null,
      "overflow_x": null,
      "overflow_y": null,
      "padding": null,
      "right": null,
      "top": null,
      "visibility": null,
      "width": null
     }
    },
    "dc7dc7fe220e42d69bf50ea9610dd030": {
     "model_module": "@jupyter-widgets/controls",
     "model_name": "DescriptionStyleModel",
     "state": {
      "_model_module": "@jupyter-widgets/controls",
      "_model_module_version": "1.5.0",
      "_model_name": "DescriptionStyleModel",
      "_view_count": null,
      "_view_module": "@jupyter-widgets/base",
      "_view_module_version": "1.2.0",
      "_view_name": "StyleView",
      "description_width": ""
     }
    },
    "de482c1c70bd4a0b9cc3ff98844d4098": {
     "model_module": "@jupyter-widgets/base",
     "model_name": "LayoutModel",
     "state": {
      "_model_module": "@jupyter-widgets/base",
      "_model_module_version": "1.2.0",
      "_model_name": "LayoutModel",
      "_view_count": null,
      "_view_module": "@jupyter-widgets/base",
      "_view_module_version": "1.2.0",
      "_view_name": "LayoutView",
      "align_content": null,
      "align_items": null,
      "align_self": null,
      "border": null,
      "bottom": null,
      "display": null,
      "flex": null,
      "flex_flow": null,
      "grid_area": null,
      "grid_auto_columns": null,
      "grid_auto_flow": null,
      "grid_auto_rows": null,
      "grid_column": null,
      "grid_gap": null,
      "grid_row": null,
      "grid_template_areas": null,
      "grid_template_columns": null,
      "grid_template_rows": null,
      "height": null,
      "justify_content": null,
      "justify_items": null,
      "left": null,
      "margin": null,
      "max_height": null,
      "max_width": null,
      "min_height": null,
      "min_width": null,
      "object_fit": null,
      "object_position": null,
      "order": null,
      "overflow": null,
      "overflow_x": null,
      "overflow_y": null,
      "padding": null,
      "right": null,
      "top": null,
      "visibility": null,
      "width": null
     }
    },
    "dfd0944ca62f42dfa20f802649e02e5a": {
     "model_module": "@jupyter-widgets/base",
     "model_name": "LayoutModel",
     "state": {
      "_model_module": "@jupyter-widgets/base",
      "_model_module_version": "1.2.0",
      "_model_name": "LayoutModel",
      "_view_count": null,
      "_view_module": "@jupyter-widgets/base",
      "_view_module_version": "1.2.0",
      "_view_name": "LayoutView",
      "align_content": null,
      "align_items": null,
      "align_self": null,
      "border": null,
      "bottom": null,
      "display": null,
      "flex": null,
      "flex_flow": null,
      "grid_area": null,
      "grid_auto_columns": null,
      "grid_auto_flow": null,
      "grid_auto_rows": null,
      "grid_column": null,
      "grid_gap": null,
      "grid_row": null,
      "grid_template_areas": null,
      "grid_template_columns": null,
      "grid_template_rows": null,
      "height": null,
      "justify_content": null,
      "justify_items": null,
      "left": null,
      "margin": null,
      "max_height": null,
      "max_width": null,
      "min_height": null,
      "min_width": null,
      "object_fit": null,
      "object_position": null,
      "order": null,
      "overflow": null,
      "overflow_x": null,
      "overflow_y": null,
      "padding": null,
      "right": null,
      "top": null,
      "visibility": null,
      "width": null
     }
    },
    "e4170aef55c74ca6b21abaa1c858ddf2": {
     "model_module": "@jupyter-widgets/base",
     "model_name": "LayoutModel",
     "state": {
      "_model_module": "@jupyter-widgets/base",
      "_model_module_version": "1.2.0",
      "_model_name": "LayoutModel",
      "_view_count": null,
      "_view_module": "@jupyter-widgets/base",
      "_view_module_version": "1.2.0",
      "_view_name": "LayoutView",
      "align_content": null,
      "align_items": null,
      "align_self": null,
      "border": null,
      "bottom": null,
      "display": null,
      "flex": null,
      "flex_flow": null,
      "grid_area": null,
      "grid_auto_columns": null,
      "grid_auto_flow": null,
      "grid_auto_rows": null,
      "grid_column": null,
      "grid_gap": null,
      "grid_row": null,
      "grid_template_areas": null,
      "grid_template_columns": null,
      "grid_template_rows": null,
      "height": null,
      "justify_content": null,
      "justify_items": null,
      "left": null,
      "margin": null,
      "max_height": null,
      "max_width": null,
      "min_height": null,
      "min_width": null,
      "object_fit": null,
      "object_position": null,
      "order": null,
      "overflow": null,
      "overflow_x": null,
      "overflow_y": null,
      "padding": null,
      "right": null,
      "top": null,
      "visibility": null,
      "width": null
     }
    },
    "e670bc4d2f5f489ba1cda382ff4f1a30": {
     "model_module": "@jupyter-widgets/controls",
     "model_name": "HTMLModel",
     "state": {
      "_dom_classes": [],
      "_model_module": "@jupyter-widgets/controls",
      "_model_module_version": "1.5.0",
      "_model_name": "HTMLModel",
      "_view_count": null,
      "_view_module": "@jupyter-widgets/controls",
      "_view_module_version": "1.5.0",
      "_view_name": "HTMLView",
      "description": "",
      "description_tooltip": null,
      "layout": "IPY_MODEL_e7cd0d178d7c4cb8bced5e4ddab7f0a7",
      "placeholder": "​",
      "style": "IPY_MODEL_859db3d5343e4c89b475bdd625e63678",
      "value": " 85/85 [00:19&lt;00:00,  4.67it/s]"
     }
    },
    "e7cd0d178d7c4cb8bced5e4ddab7f0a7": {
     "model_module": "@jupyter-widgets/base",
     "model_name": "LayoutModel",
     "state": {
      "_model_module": "@jupyter-widgets/base",
      "_model_module_version": "1.2.0",
      "_model_name": "LayoutModel",
      "_view_count": null,
      "_view_module": "@jupyter-widgets/base",
      "_view_module_version": "1.2.0",
      "_view_name": "LayoutView",
      "align_content": null,
      "align_items": null,
      "align_self": null,
      "border": null,
      "bottom": null,
      "display": null,
      "flex": null,
      "flex_flow": null,
      "grid_area": null,
      "grid_auto_columns": null,
      "grid_auto_flow": null,
      "grid_auto_rows": null,
      "grid_column": null,
      "grid_gap": null,
      "grid_row": null,
      "grid_template_areas": null,
      "grid_template_columns": null,
      "grid_template_rows": null,
      "height": null,
      "justify_content": null,
      "justify_items": null,
      "left": null,
      "margin": null,
      "max_height": null,
      "max_width": null,
      "min_height": null,
      "min_width": null,
      "object_fit": null,
      "object_position": null,
      "order": null,
      "overflow": null,
      "overflow_x": null,
      "overflow_y": null,
      "padding": null,
      "right": null,
      "top": null,
      "visibility": null,
      "width": null
     }
    },
    "e9986fe4a7a14c00a55d887cdaa6dbef": {
     "model_module": "@jupyter-widgets/base",
     "model_name": "LayoutModel",
     "state": {
      "_model_module": "@jupyter-widgets/base",
      "_model_module_version": "1.2.0",
      "_model_name": "LayoutModel",
      "_view_count": null,
      "_view_module": "@jupyter-widgets/base",
      "_view_module_version": "1.2.0",
      "_view_name": "LayoutView",
      "align_content": null,
      "align_items": null,
      "align_self": null,
      "border": null,
      "bottom": null,
      "display": null,
      "flex": null,
      "flex_flow": null,
      "grid_area": null,
      "grid_auto_columns": null,
      "grid_auto_flow": null,
      "grid_auto_rows": null,
      "grid_column": null,
      "grid_gap": null,
      "grid_row": null,
      "grid_template_areas": null,
      "grid_template_columns": null,
      "grid_template_rows": null,
      "height": null,
      "justify_content": null,
      "justify_items": null,
      "left": null,
      "margin": null,
      "max_height": null,
      "max_width": null,
      "min_height": null,
      "min_width": null,
      "object_fit": null,
      "object_position": null,
      "order": null,
      "overflow": null,
      "overflow_x": null,
      "overflow_y": null,
      "padding": null,
      "right": null,
      "top": null,
      "visibility": null,
      "width": null
     }
    },
    "ec648b4ab0294ed49e91a40591134ff3": {
     "model_module": "@jupyter-widgets/controls",
     "model_name": "HTMLModel",
     "state": {
      "_dom_classes": [],
      "_model_module": "@jupyter-widgets/controls",
      "_model_module_version": "1.5.0",
      "_model_name": "HTMLModel",
      "_view_count": null,
      "_view_module": "@jupyter-widgets/controls",
      "_view_module_version": "1.5.0",
      "_view_name": "HTMLView",
      "description": "",
      "description_tooltip": null,
      "layout": "IPY_MODEL_de482c1c70bd4a0b9cc3ff98844d4098",
      "placeholder": "​",
      "style": "IPY_MODEL_dc7dc7fe220e42d69bf50ea9610dd030",
      "value": " 85/85 [00:19&lt;00:00,  4.67it/s]"
     }
    },
    "ed65302ba81c43d5a4c64e8d6eeb9d81": {
     "model_module": "@jupyter-widgets/base",
     "model_name": "LayoutModel",
     "state": {
      "_model_module": "@jupyter-widgets/base",
      "_model_module_version": "1.2.0",
      "_model_name": "LayoutModel",
      "_view_count": null,
      "_view_module": "@jupyter-widgets/base",
      "_view_module_version": "1.2.0",
      "_view_name": "LayoutView",
      "align_content": null,
      "align_items": null,
      "align_self": null,
      "border": null,
      "bottom": null,
      "display": null,
      "flex": null,
      "flex_flow": null,
      "grid_area": null,
      "grid_auto_columns": null,
      "grid_auto_flow": null,
      "grid_auto_rows": null,
      "grid_column": null,
      "grid_gap": null,
      "grid_row": null,
      "grid_template_areas": null,
      "grid_template_columns": null,
      "grid_template_rows": null,
      "height": null,
      "justify_content": null,
      "justify_items": null,
      "left": null,
      "margin": null,
      "max_height": null,
      "max_width": null,
      "min_height": null,
      "min_width": null,
      "object_fit": null,
      "object_position": null,
      "order": null,
      "overflow": null,
      "overflow_x": null,
      "overflow_y": null,
      "padding": null,
      "right": null,
      "top": null,
      "visibility": null,
      "width": null
     }
    },
    "f1b1cb4b95ed4ebf851b19e2c032345f": {
     "model_module": "@jupyter-widgets/base",
     "model_name": "LayoutModel",
     "state": {
      "_model_module": "@jupyter-widgets/base",
      "_model_module_version": "1.2.0",
      "_model_name": "LayoutModel",
      "_view_count": null,
      "_view_module": "@jupyter-widgets/base",
      "_view_module_version": "1.2.0",
      "_view_name": "LayoutView",
      "align_content": null,
      "align_items": null,
      "align_self": null,
      "border": null,
      "bottom": null,
      "display": null,
      "flex": null,
      "flex_flow": null,
      "grid_area": null,
      "grid_auto_columns": null,
      "grid_auto_flow": null,
      "grid_auto_rows": null,
      "grid_column": null,
      "grid_gap": null,
      "grid_row": null,
      "grid_template_areas": null,
      "grid_template_columns": null,
      "grid_template_rows": null,
      "height": null,
      "justify_content": null,
      "justify_items": null,
      "left": null,
      "margin": null,
      "max_height": null,
      "max_width": null,
      "min_height": null,
      "min_width": null,
      "object_fit": null,
      "object_position": null,
      "order": null,
      "overflow": null,
      "overflow_x": null,
      "overflow_y": null,
      "padding": null,
      "right": null,
      "top": null,
      "visibility": null,
      "width": null
     }
    },
    "f20866fa43bd4e09a110c4e58352008c": {
     "model_module": "@jupyter-widgets/controls",
     "model_name": "DescriptionStyleModel",
     "state": {
      "_model_module": "@jupyter-widgets/controls",
      "_model_module_version": "1.5.0",
      "_model_name": "DescriptionStyleModel",
      "_view_count": null,
      "_view_module": "@jupyter-widgets/base",
      "_view_module_version": "1.2.0",
      "_view_name": "StyleView",
      "description_width": ""
     }
    },
    "f4245612d2764635801f438abb242b51": {
     "model_module": "@jupyter-widgets/controls",
     "model_name": "FloatProgressModel",
     "state": {
      "_dom_classes": [],
      "_model_module": "@jupyter-widgets/controls",
      "_model_module_version": "1.5.0",
      "_model_name": "FloatProgressModel",
      "_view_count": null,
      "_view_module": "@jupyter-widgets/controls",
      "_view_module_version": "1.5.0",
      "_view_name": "ProgressView",
      "bar_style": "success",
      "description": "",
      "description_tooltip": null,
      "layout": "IPY_MODEL_0d971b88ff5a42fe84541d141341669f",
      "max": 291,
      "min": 0,
      "orientation": "horizontal",
      "style": "IPY_MODEL_8cbb25da6a5a423295f0c011757ef41f",
      "value": 291
     }
    },
    "f4b3a535e858481c8bfd94bafe4e2827": {
     "model_module": "@jupyter-widgets/base",
     "model_name": "LayoutModel",
     "state": {
      "_model_module": "@jupyter-widgets/base",
      "_model_module_version": "1.2.0",
      "_model_name": "LayoutModel",
      "_view_count": null,
      "_view_module": "@jupyter-widgets/base",
      "_view_module_version": "1.2.0",
      "_view_name": "LayoutView",
      "align_content": null,
      "align_items": null,
      "align_self": null,
      "border": null,
      "bottom": null,
      "display": null,
      "flex": null,
      "flex_flow": null,
      "grid_area": null,
      "grid_auto_columns": null,
      "grid_auto_flow": null,
      "grid_auto_rows": null,
      "grid_column": null,
      "grid_gap": null,
      "grid_row": null,
      "grid_template_areas": null,
      "grid_template_columns": null,
      "grid_template_rows": null,
      "height": null,
      "justify_content": null,
      "justify_items": null,
      "left": null,
      "margin": null,
      "max_height": null,
      "max_width": null,
      "min_height": null,
      "min_width": null,
      "object_fit": null,
      "object_position": null,
      "order": null,
      "overflow": null,
      "overflow_x": null,
      "overflow_y": null,
      "padding": null,
      "right": null,
      "top": null,
      "visibility": null,
      "width": null
     }
    },
    "f50126881edb44a39693b12fad740d6d": {
     "model_module": "@jupyter-widgets/base",
     "model_name": "LayoutModel",
     "state": {
      "_model_module": "@jupyter-widgets/base",
      "_model_module_version": "1.2.0",
      "_model_name": "LayoutModel",
      "_view_count": null,
      "_view_module": "@jupyter-widgets/base",
      "_view_module_version": "1.2.0",
      "_view_name": "LayoutView",
      "align_content": null,
      "align_items": null,
      "align_self": null,
      "border": null,
      "bottom": null,
      "display": null,
      "flex": null,
      "flex_flow": null,
      "grid_area": null,
      "grid_auto_columns": null,
      "grid_auto_flow": null,
      "grid_auto_rows": null,
      "grid_column": null,
      "grid_gap": null,
      "grid_row": null,
      "grid_template_areas": null,
      "grid_template_columns": null,
      "grid_template_rows": null,
      "height": null,
      "justify_content": null,
      "justify_items": null,
      "left": null,
      "margin": null,
      "max_height": null,
      "max_width": null,
      "min_height": null,
      "min_width": null,
      "object_fit": null,
      "object_position": null,
      "order": null,
      "overflow": null,
      "overflow_x": null,
      "overflow_y": null,
      "padding": null,
      "right": null,
      "top": null,
      "visibility": null,
      "width": null
     }
    },
    "f62f02a1b3cc4c5f98283bf9e301d8ce": {
     "model_module": "@jupyter-widgets/controls",
     "model_name": "FloatProgressModel",
     "state": {
      "_dom_classes": [],
      "_model_module": "@jupyter-widgets/controls",
      "_model_module_version": "1.5.0",
      "_model_name": "FloatProgressModel",
      "_view_count": null,
      "_view_module": "@jupyter-widgets/controls",
      "_view_module_version": "1.5.0",
      "_view_name": "ProgressView",
      "bar_style": "success",
      "description": "",
      "description_tooltip": null,
      "layout": "IPY_MODEL_f50126881edb44a39693b12fad740d6d",
      "max": 85,
      "min": 0,
      "orientation": "horizontal",
      "style": "IPY_MODEL_3ee71113df5046599692a69e22b0f99c",
      "value": 85
     }
    },
    "f8b41a5530404223b46f6c29e91c0744": {
     "model_module": "@jupyter-widgets/controls",
     "model_name": "HBoxModel",
     "state": {
      "_dom_classes": [],
      "_model_module": "@jupyter-widgets/controls",
      "_model_module_version": "1.5.0",
      "_model_name": "HBoxModel",
      "_view_count": null,
      "_view_module": "@jupyter-widgets/controls",
      "_view_module_version": "1.5.0",
      "_view_name": "HBoxView",
      "box_style": "",
      "children": [
       "IPY_MODEL_276d3e3888e94663bbf405f8fc7f0c88",
       "IPY_MODEL_a1259324358d49798edb21c3248a9446",
       "IPY_MODEL_7579fe3aecdc4fe9b83b1587d2ca3a05"
      ],
      "layout": "IPY_MODEL_36ad6d883cd64c899c0712475896f0ec"
     }
    },
    "fa915befede34ffca895e57723f03d6e": {
     "model_module": "@jupyter-widgets/base",
     "model_name": "LayoutModel",
     "state": {
      "_model_module": "@jupyter-widgets/base",
      "_model_module_version": "1.2.0",
      "_model_name": "LayoutModel",
      "_view_count": null,
      "_view_module": "@jupyter-widgets/base",
      "_view_module_version": "1.2.0",
      "_view_name": "LayoutView",
      "align_content": null,
      "align_items": null,
      "align_self": null,
      "border": null,
      "bottom": null,
      "display": null,
      "flex": null,
      "flex_flow": null,
      "grid_area": null,
      "grid_auto_columns": null,
      "grid_auto_flow": null,
      "grid_auto_rows": null,
      "grid_column": null,
      "grid_gap": null,
      "grid_row": null,
      "grid_template_areas": null,
      "grid_template_columns": null,
      "grid_template_rows": null,
      "height": null,
      "justify_content": null,
      "justify_items": null,
      "left": null,
      "margin": null,
      "max_height": null,
      "max_width": null,
      "min_height": null,
      "min_width": null,
      "object_fit": null,
      "object_position": null,
      "order": null,
      "overflow": null,
      "overflow_x": null,
      "overflow_y": null,
      "padding": null,
      "right": null,
      "top": null,
      "visibility": null,
      "width": null
     }
    },
    "fda9f011ccdb428d85b0082f398a044f": {
     "model_module": "@jupyter-widgets/controls",
     "model_name": "ProgressStyleModel",
     "state": {
      "_model_module": "@jupyter-widgets/controls",
      "_model_module_version": "1.5.0",
      "_model_name": "ProgressStyleModel",
      "_view_count": null,
      "_view_module": "@jupyter-widgets/base",
      "_view_module_version": "1.2.0",
      "_view_name": "StyleView",
      "bar_color": null,
      "description_width": ""
     }
    }
   }
  }
 },
 "nbformat": 4,
 "nbformat_minor": 1
}
