{
 "cells": [
  {
   "cell_type": "code",
   "execution_count": 2,
   "id": "vanilla-roberts",
   "metadata": {},
   "outputs": [
    {
     "name": "stderr",
     "output_type": "stream",
     "text": [
      "WARNING: Retrying (Retry(total=4, connect=None, read=None, redirect=None, status=None)) after connection broken by 'NewConnectionError('<pip._vendor.urllib3.connection.HTTPConnection object at 0x000002D79CBD0160>: Failed to establish a new connection: [Errno 11001] getaddrinfo failed')': /nexus/content/groups/build.snapshots.pypi/simple/tweepy/\n",
      "WARNING: Retrying (Retry(total=3, connect=None, read=None, redirect=None, status=None)) after connection broken by 'NewConnectionError('<pip._vendor.urllib3.connection.HTTPConnection object at 0x000002D79CBD0B00>: Failed to establish a new connection: [Errno 11001] getaddrinfo failed')': /nexus/content/groups/build.snapshots.pypi/simple/tweepy/\n",
      "WARNING: Retrying (Retry(total=2, connect=None, read=None, redirect=None, status=None)) after connection broken by 'NewConnectionError('<pip._vendor.urllib3.connection.HTTPConnection object at 0x000002D79CBD0D30>: Failed to establish a new connection: [Errno 11001] getaddrinfo failed')': /nexus/content/groups/build.snapshots.pypi/simple/tweepy/\n",
      "WARNING: Retrying (Retry(total=1, connect=None, read=None, redirect=None, status=None)) after connection broken by 'NewConnectionError('<pip._vendor.urllib3.connection.HTTPConnection object at 0x000002D79CBD0F60>: Failed to establish a new connection: [Errno 11001] getaddrinfo failed')': /nexus/content/groups/build.snapshots.pypi/simple/tweepy/\n",
      "WARNING: Retrying (Retry(total=0, connect=None, read=None, redirect=None, status=None)) after connection broken by 'NewConnectionError('<pip._vendor.urllib3.connection.HTTPConnection object at 0x000002D79CBE70F0>: Failed to establish a new connection: [Errno 11001] getaddrinfo failed')': /nexus/content/groups/build.snapshots.pypi/simple/tweepy/\n",
      "WARNING: Retrying (Retry(total=4, connect=None, read=None, redirect=None, status=None)) after connection broken by 'NewConnectionError('<pip._vendor.urllib3.connection.HTTPConnection object at 0x000002D79CBE72E8>: Failed to establish a new connection: [Errno 11001] getaddrinfo failed')': /nexus/content/groups/build.releases.pypi/simple/tweepy/\n",
      "WARNING: Retrying (Retry(total=3, connect=None, read=None, redirect=None, status=None)) after connection broken by 'NewConnectionError('<pip._vendor.urllib3.connection.HTTPConnection object at 0x000002D79CBE7630>: Failed to establish a new connection: [Errno 11001] getaddrinfo failed')': /nexus/content/groups/build.releases.pypi/simple/tweepy/\n",
      "WARNING: Retrying (Retry(total=2, connect=None, read=None, redirect=None, status=None)) after connection broken by 'NewConnectionError('<pip._vendor.urllib3.connection.HTTPConnection object at 0x000002D79CBE7860>: Failed to establish a new connection: [Errno 11001] getaddrinfo failed')': /nexus/content/groups/build.releases.pypi/simple/tweepy/\n",
      "WARNING: Retrying (Retry(total=1, connect=None, read=None, redirect=None, status=None)) after connection broken by 'NewConnectionError('<pip._vendor.urllib3.connection.HTTPConnection object at 0x000002D79CBE7A90>: Failed to establish a new connection: [Errno 11001] getaddrinfo failed')': /nexus/content/groups/build.releases.pypi/simple/tweepy/\n",
      "WARNING: Retrying (Retry(total=0, connect=None, read=None, redirect=None, status=None)) after connection broken by 'NewConnectionError('<pip._vendor.urllib3.connection.HTTPConnection object at 0x000002D79CBE7CC0>: Failed to establish a new connection: [Errno 11001] getaddrinfo failed')': /nexus/content/groups/build.releases.pypi/simple/tweepy/\n"
     ]
    },
    {
     "name": "stdout",
     "output_type": "stream",
     "text": [
      "Looking in indexes: https://pypi.org/simple, http://nexus.wdf.sap.corp:8081/nexus/content/groups/build.snapshots.pypi/simple/, http://nexus.wdf.sap.corp:8081/nexus/content/groups/build.releases.pypi/simple/\n",
      "Collecting tweepy\n",
      "  Downloading tweepy-3.10.0-py2.py3-none-any.whl (30 kB)\n",
      "Requirement already satisfied: six>=1.10.0 in c:\\users\\i345144\\appdata\\local\\continuum\\anaconda3\\lib\\site-packages (from tweepy) (1.15.0)\n",
      "Requirement already satisfied: requests-oauthlib>=0.7.0 in c:\\users\\i345144\\appdata\\local\\continuum\\anaconda3\\lib\\site-packages (from tweepy) (1.3.0)\n",
      "Requirement already satisfied: requests[socks]>=2.11.1 in c:\\users\\i345144\\appdata\\local\\continuum\\anaconda3\\lib\\site-packages (from tweepy) (2.25.1)\n",
      "Requirement already satisfied: oauthlib>=3.0.0 in c:\\users\\i345144\\appdata\\local\\continuum\\anaconda3\\lib\\site-packages (from requests-oauthlib>=0.7.0->tweepy) (3.1.0)\n",
      "Requirement already satisfied: urllib3<1.27,>=1.21.1 in c:\\users\\i345144\\appdata\\local\\continuum\\anaconda3\\lib\\site-packages (from requests[socks]>=2.11.1->tweepy) (1.26.3)\n",
      "Requirement already satisfied: chardet<5,>=3.0.2 in c:\\users\\i345144\\appdata\\local\\continuum\\anaconda3\\lib\\site-packages (from requests[socks]>=2.11.1->tweepy) (4.0.0)\n",
      "Requirement already satisfied: idna<3,>=2.5 in c:\\users\\i345144\\appdata\\local\\continuum\\anaconda3\\lib\\site-packages (from requests[socks]>=2.11.1->tweepy) (2.10)\n",
      "Requirement already satisfied: certifi>=2017.4.17 in c:\\users\\i345144\\appdata\\local\\continuum\\anaconda3\\lib\\site-packages (from requests[socks]>=2.11.1->tweepy) (2020.12.5)\n",
      "Requirement already satisfied: PySocks!=1.5.7,>=1.5.6 in c:\\users\\i345144\\appdata\\local\\continuum\\anaconda3\\lib\\site-packages (from requests[socks]>=2.11.1->tweepy) (1.7.1)\n",
      "Installing collected packages: tweepy\n",
      "Successfully installed tweepy-3.10.0\n",
      "Looking in indexes: https://pypi.org/simple, http://nexus.wdf.sap.corp:8081/nexus/content/groups/build.snapshots.pypi/simple/, http://nexus.wdf.sap.corp:8081/nexus/content/groups/build.releases.pypi/simple/\n",
      "Requirement already satisfied: textblob in c:\\users\\i345144\\appdata\\local\\continuum\\anaconda3\\lib\\site-packages (0.15.3)\n",
      "Requirement already satisfied: nltk>=3.1 in c:\\users\\i345144\\appdata\\local\\continuum\\anaconda3\\lib\\site-packages (from textblob) (3.4.5)\n",
      "Requirement already satisfied: six in c:\\users\\i345144\\appdata\\local\\continuum\\anaconda3\\lib\\site-packages (from nltk>=3.1->textblob) (1.15.0)\n"
     ]
    }
   ],
   "source": [
    "!pip install tweepy\n",
    "!pip install textblob"
   ]
  },
  {
   "cell_type": "code",
   "execution_count": 1,
   "id": "integral-astronomy",
   "metadata": {},
   "outputs": [],
   "source": [
    "\n",
    "import re \n",
    "import tweepy \n",
    "from tweepy import OAuthHandler \n",
    "from textblob import TextBlob \n",
    "from wordcloud import WordCloud, STOPWORDS \n",
    "import matplotlib.pyplot as plt\n",
    "import pandas as pd\n",
    "\n",
    "import os\n"
   ]
  },
  {
   "cell_type": "code",
   "execution_count": 25,
   "id": "optical-speaker",
   "metadata": {},
   "outputs": [],
   "source": [
    "\n",
    "class TwitterClient(object):\n",
    "    ''' \n",
    "    Generic Twitter Class for sentiment analysis. \n",
    "    '''\n",
    "    def __init__(self): \n",
    "        ''' \n",
    "        Class constructor or initialization method. \n",
    "        '''\n",
    "        # keys and tokens from the Twitter Dev Console \n",
    "        consumer_key = 'rbA1W2pwMmVAxkTljAMncPCgA'\n",
    "        consumer_secret = 'QRaVtZBnHB6B65DhdffjdmJh5Yqvpd4QfmwK0GoSf7OhNvjFmU'\n",
    "        access_token = '1037630534686466048-yerSFRAEumikdvN95xOcGZ5lQCrBB2'\n",
    "        access_token_secret = 'TYxq7DHenPmUazoD25biP6ormCchl4sFFMQGdKzlS2k5c'\n",
    "        \n",
    "        # attempt authentication \n",
    "        try: \n",
    "            # create OAuthHandler object \n",
    "            self.auth = OAuthHandler(consumer_key, consumer_secret) \n",
    "            # set access token and secret \n",
    "            self.auth.set_access_token(access_token, access_token_secret) \n",
    "            # create tweepy API object to fetch tweets \n",
    "            self.api = tweepy.API(self.auth)\n",
    "        except:\n",
    "            print(\"Error: Authentication Failed\") \n",
    "\n",
    "    def clean_tweet(self, tweet):\n",
    "        ''' \n",
    "        Utility function to clean tweet text by removing links, special characters \n",
    "        using simple regex statements. \n",
    "        '''\n",
    "        return ' '.join(re.sub(\"[^a-zA-z]\",\" \",tweet).split())\n",
    "    \n",
    "\n",
    "    def get_tweets(self, query, count = 10):\n",
    "        ''' \n",
    "        Main function to fetch tweets and parse them.\n",
    "        '''\n",
    "        # empty list to store parsed tweets \n",
    "        tweets = []\n",
    "        try: \n",
    "            # call twitter api to fetch tweets\n",
    "            fetched_tweets = self.api.search(q = query, count = count, lang='en')\n",
    "            # parsing tweets one by one \n",
    "            for tweet in fetched_tweets: \n",
    "                # empty dictionary to store required params of a tweet \n",
    "                parsed_tweet = {}\n",
    "                # saving text of tweet \n",
    "                parsed_tweet['text'] = self.clean_tweet(tweet.text) \n",
    "                # saving sentiment of tweet\n",
    "                if tweet.retweet_count > 0:\n",
    "                    if parsed_tweet not in tweets:\n",
    "                        tweets.append(parsed_tweet)\n",
    "                    else:\n",
    "                        tweets.append(parsed_tweet) \n",
    "            return tweets\n",
    "        except tweepy.TweepError as e: \n",
    "            # print error (if any)\n",
    "            print(\"Error : \" + str(e))\n",
    "\n",
    "\n",
    "def main():\n",
    "    api = TwitterClient() \n",
    "    tweets = api.get_tweets(query = 'Coronavirus', count = 5000)\n",
    "    df=pd.DataFrame(tweets)\n",
    "    df.to_csv(\"C:\\\\Users\\\\i345144\\\\OneDrive - SAP SE\\\\Documents\\\\MSRUS\\\\Indivisual_Project\\\\FakeNewsV2\\\\tweets1.csv\",index=False)\n",
    "    #print(tweets)\n",
    "    \n",
    "if __name__ == \"__main__\":\n",
    "    main() "
   ]
  },
  {
   "cell_type": "code",
   "execution_count": null,
   "id": "accessible-bracket",
   "metadata": {},
   "outputs": [],
   "source": []
  }
 ],
 "metadata": {
  "kernelspec": {
   "display_name": "Python 3",
   "language": "python",
   "name": "python3"
  },
  "language_info": {
   "codemirror_mode": {
    "name": "ipython",
    "version": 3
   },
   "file_extension": ".py",
   "mimetype": "text/x-python",
   "name": "python",
   "nbconvert_exporter": "python",
   "pygments_lexer": "ipython3",
   "version": "3.7.3"
  }
 },
 "nbformat": 4,
 "nbformat_minor": 5
}
